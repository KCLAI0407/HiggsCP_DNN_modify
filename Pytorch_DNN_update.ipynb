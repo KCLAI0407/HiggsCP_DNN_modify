{
 "cells": [
  {
   "cell_type": "code",
   "execution_count": 1,
   "id": "4f262e3c",
   "metadata": {},
   "outputs": [
    {
     "name": "stdout",
     "output_type": "stream",
     "text": [
      "WARNING:tensorflow:From /Users/elsonlai/4610/lib/python3.8/site-packages/tensorflow/python/compat/v2_compat.py:101: disable_resource_variables (from tensorflow.python.ops.variable_scope) is deprecated and will be removed in a future version.\n",
      "Instructions for updating:\n",
      "non-resource variables are not supported in the long term\n"
     ]
    }
   ],
   "source": [
    "import numpy as np\n",
    "import torch\n",
    "import torch.nn as nn\n",
    "import torch.nn.functional as F\n",
    "import pickle\n",
    "from tqdm.notebook import tqdm\n",
    "from Eearly_stop import *\n",
    "from sklearn.metrics import roc_auc_score, accuracy_score\n",
    "import sys\n",
    "import pandas as pd\n",
    "import argparse\n",
    "import os\n",
    "import matplotlib.pyplot as plt\n",
    "import warnings\n",
    "warnings.filterwarnings('ignore')\n",
    "import math\n",
    "from torch.utils.data import Dataset, DataLoader\n",
    "#from src_py.cpmix_original_utils import preprocess_data\n",
    "from src_py.cpmix_utils import preprocess_data       ##with Bkgd\n",
    "from src_py.rhorho import RhoRhoEvent\n",
    "from src_py.a1a1 import A1A1Event\n",
    "from src_py.a1rho import A1RhoEvent\n",
    "from src_py.data_utils import read_np, EventDatasets\n",
    "from src_py.process_background import convert_bkgd_raw\n",
    "import train_rhorho, train_a1rho, train_a1a1\n",
    "from src_py.metrics_utils import calculate_deltas_unsigned, calculate_deltas_signed\n",
    "from sklearn.metrics import confusion_matrix"
   ]
  },
  {
   "cell_type": "code",
   "execution_count": 2,
   "id": "4594a786",
   "metadata": {},
   "outputs": [
    {
     "name": "stdout",
     "output_type": "stream",
     "text": [
      "Using cpu device\n"
     ]
    }
   ],
   "source": [
    "device = torch.device('cuda:7') if torch.cuda.is_available() else torch.device('cpu')\n",
    "print('Using {} device'.format(device))"
   ]
  },
  {
   "cell_type": "code",
   "execution_count": 3,
   "id": "a06f3b95",
   "metadata": {},
   "outputs": [],
   "source": [
    "batch_size=512\n",
    "types = {\"nn_rhorho\": train_rhorho.start,\"nn_a1rho\": train_a1rho.start,\"nn_a1a1\": train_a1a1.start}\n",
    "parser = argparse.ArgumentParser(description='Train classifier')\n",
    "\n",
    "decaymodes = ['rhorho', 'a1rho', 'a1a1']\n",
    "decaymode = decaymodes[0]  ###### Change this to corresponding decaymode ############\n",
    "\n",
    "parser.add_argument(\"-i\", \"--input\", dest=\"IN\", default='HiggsCP_data/'+decaymode+'_bkgd')\n",
    "parser.add_argument(\"-t\", \"--type\", dest=\"TYPE\", choices=types.keys(), default='nn_'+ decaymode)\n",
    "\n",
    "parser.add_argument(\"--num_classes\", dest=\"NUM_CLASSES\", type=int, default=11)\n",
    "parser.add_argument(\"-l\", \"--layers\", dest=\"LAYERS\", type=int, help = \"number of NN layers\", default=6)\n",
    "parser.add_argument(\"-s\", \"--size\", dest=\"SIZE\", type=int, help=\"NN size\", default=100)\n",
    "parser.add_argument(\"-lambda\", \"--lambda\", type=float, dest=\"LAMBDA\", help=\"value of lambda parameter\", default=0.0)\n",
    "parser.add_argument(\"-m\", \"--method\", dest=\"METHOD\", choices=[\"A\", \"B\", \"C\"], default=\"A\")\n",
    "parser.add_argument(\"-o\", \"--optimizer\", dest=\"OPT\", \n",
    "    choices=[\"GradientDescentOptimizer\", \"AdadeltaOptimizer\", \"AdagradOptimizer\",\n",
    "         \"ProximalAdagradOptimizer\", \"AdamOptimizer\", \"FtrlOptimizer\",\n",
    "         \"ProximalGradientDescentOptimizer\", \"RMSPropOptimizer\"], default=\"AdamOptimizer\")\n",
    "parser.add_argument(\"-d\", \"--dropout\", dest=\"DROPOUT\", type=float, default=0.0)\n",
    "parser.add_argument(\"-e\", \"--epochs\", dest=\"EPOCHS\", type=int, default=25)\n",
    "# parser.add_argument(\"-f\", \"--features\", dest=\"FEAT\", help=\"Features\", default=\"Variant-All\")\n",
    "# #         choices= [\"Variant-All\", \"Variant-1.0\", \"Variant-1.1\", \"Variant-2.0\", \"Variant-2.1\",\n",
    "# #                   \"Variant-2.2\", \"Variant-3.0\", \"Variant-3.1\", \"Variant-4.0\", \"Variant-4.1\"])\n",
    "\n",
    "parser.add_argument(\"--miniset\", dest=\"MINISET\", type=lambda s: s.lower() in ['true', 't', 'yes', '1'], default=False)\n",
    "parser.add_argument(\"--z_noise_fraction\", dest=\"Z_NOISE_FRACTION\", type=float, default=0.0)\n",
    "\n",
    "parser.add_argument(\"--delt_classes\", dest=\"DELT_CLASSES\", type=int, default=0,\n",
    "                    help='Maximal distance between predicted and valid class for event being considered as correctly classified')\n",
    "\n",
    "parser.add_argument(\"--unweighted\", dest=\"UNWEIGHTED\", type=lambda s: s.lower() in ['true', 't', 'yes', '1'], default=False)\n",
    "parser.add_argument(\"--reuse_weights\", dest=\"REUSE_WEIGHTS\", type=bool, default=False)\n",
    "parser.add_argument(\"--restrict_most_probable_angle\", dest=\"RESTRICT_MOST_PROBABLE_ANGLE\", type=bool, default=False)\n",
    "parser.add_argument(\"--force_download\", dest=\"FORCE_DOWNLOAD\", type=bool, default=False)\n",
    "parser.add_argument(\"--normalize_weights\", dest=\"NORMALIZE_WEIGHTS\", type=bool, default=False)\n",
    "\n",
    "\n",
    "parser.add_argument(\"--beta\",  type=float, dest=\"BETA\", help=\"value of beta parameter for polynomial smearing\", default=0.0)\n",
    "parser.add_argument(\"--pol_b\", type=float, dest=\"pol_b\", help=\"value of b parameter for polynomial smearing\", default=0.0)\n",
    "parser.add_argument(\"--pol_c\", type=float, dest=\"pol_c\", help=\"value of c parameter for polynomial smearing\", default=0.0)\n",
    "\n",
    "parser.add_argument(\"--w1\", dest=\"W1\")\n",
    "parser.add_argument(\"--w2\", dest=\"W2\")\n",
    "parser.add_argument(\"--f\", dest=\"FEAT\", default=\"Variant-All\")\n",
    "parser.add_argument(\"--plot_features\", dest=\"PLOT_FEATURES\", choices=[\"NO\", \"FILTER\", \"NO-FILTER\"], default=\"NO\")\n",
    "parser.add_argument(\"--training_method\", dest=\"TRAINING_METHOD\", choices=[\"soft_weights\", \"soft_c012s\",  \"soft_argmaxs\", \"regr_c012s\", \"regr_weights\", \"regr_argmaxs\"], default=\"soft_weights\")\n",
    "parser.add_argument(\"--hits_c012s\", dest=\"HITS_C012s\", choices=[\"hits_c0s\", \"hits_c1s\",  \"hits_c2s\"], default=\"hits_c0s\")\n",
    "\n",
    "parser.add_argument(\"-r\", \"--reprocess\", dest=\"REPRO\", type=bool, default=True)\n",
    "args, unknown = parser.parse_known_args()\n",
    "parser.add_argument(\"-bkgd\", \"--bkgdpath\", dest=\"BKGDPATH\", default= 'Ztt_dataset_Elz/pythia.Z_115_135.%s.1M.*.outTUPLE_labFrame')\n",
    "args, unknown = parser.parse_known_args()\n",
    "\n",
    "parser.add_argument(\"--label_bkgd\", dest=\"LABEL\", type=bool, default=False)\n",
    "args, unknown = parser.parse_known_args()"
   ]
  },
  {
   "cell_type": "markdown",
   "id": "be8a585e",
   "metadata": {},
   "source": [
    "# Preprocessing signal samples from all the decaymodes"
   ]
  },
  {
   "cell_type": "code",
   "execution_count": null,
   "id": "8f13040b",
   "metadata": {},
   "outputs": [],
   "source": [
    "events={'nn_rhorho':'RhoRhoEvent', 'nn_a1rho':'A1RhoEvent', 'nn_a1a1':'A1A1Event'}\n",
    "if args.REPRO:\n",
    "#     for decaymode in tqdm(decaymodes):\n",
    "    args.IN = 'HiggsCP_data/'+decaymode\n",
    "    args.TYPE = 'nn_'+decaymode\n",
    "    data, weights, argmaxs, perm, c012s, hits_argmaxs, hits_c012s = preprocess_data(args)\n",
    "    event = eval(events[args.TYPE])(data, args)\n",
    "    points = EventDatasets(event, weights, argmaxs, perm, c012s=c012s, hits_argmaxs=hits_argmaxs,  hits_c012s=hits_c012s, miniset=args.MINISET, unweighted=args.UNWEIGHTED)\n",
    "    pickle.dump(points,open(args.IN+'/events_wo_background21_wo_nu.pk','wb'))"
   ]
  },
  {
   "cell_type": "markdown",
   "id": "a35d7a5e",
   "metadata": {},
   "source": [
    "## with bkgd"
   ]
  },
  {
   "cell_type": "code",
   "execution_count": null,
   "id": "26b79f3a",
   "metadata": {},
   "outputs": [],
   "source": [
    "events={'nn_rhorho':'RhoRhoEvent', 'nn_a1rho':'A1RhoEvent', 'nn_a1a1':'A1A1Event'}\n",
    "if args.REPRO:\n",
    "    args.LABEL = True\n",
    "    args.Z_NOISE_FRACTION = 0.8\n",
    "    args.IN = 'HiggsCP_data/'+decaymode+'_bkgd'\n",
    "    args.TYPE = 'nn_'+decaymode\n",
    "    data, weights, argmaxs, perm, c012s, hits_argmaxs, hits_c012s = preprocess_data(args)\n",
    "    event = eval(events[args.TYPE])(data, args)\n",
    "    points = EventDatasets(event, weights, argmaxs, perm, c012s=c012s, hits_argmaxs=hits_argmaxs,  hits_c012s=hits_c012s, miniset=args.MINISET, unweighted=args.UNWEIGHTED)\n",
    "    pickle.dump(points,open(args.IN+'/events_w_background11.pk','wb'))"
   ]
  },
  {
   "cell_type": "markdown",
   "id": "c0d34dc8",
   "metadata": {},
   "source": [
    "# Loading signal samples"
   ]
  },
  {
   "cell_type": "code",
   "execution_count": null,
   "id": "9d5cbd69",
   "metadata": {},
   "outputs": [],
   "source": [
    "points=pickle.load(open(args.IN+'/events_wo_background21_wo_nu.pk','rb'))"
   ]
  },
  {
   "cell_type": "markdown",
   "id": "2bb79a67",
   "metadata": {},
   "source": [
    "## with bkgd"
   ]
  },
  {
   "cell_type": "code",
   "execution_count": 4,
   "id": "97f38c33",
   "metadata": {},
   "outputs": [],
   "source": [
    "points=pickle.load(open(args.IN+'/events_w_background11.pk','rb'))"
   ]
  },
  {
   "cell_type": "markdown",
   "id": "b27e4163",
   "metadata": {},
   "source": [
    "# Checking feature"
   ]
  },
  {
   "cell_type": "code",
   "execution_count": null,
   "id": "a33afaf2",
   "metadata": {},
   "outputs": [],
   "source": [
    "df_rhorho=pd.DataFrame(points.train.weights)\n",
    "#particle_name = ['pi-', 'pi0_1', 'pi+', 'pi0_2']\n",
    "#affiliated_name =['p_x', 'p_y', 'p_z', 'E']\n",
    "#features_names=[ x+'_'+y for x in particle_name for y in affiliated_name]\n",
    "#df_rhorho.columns=features_names\n",
    "df_rhorho"
   ]
  },
  {
   "cell_type": "markdown",
   "id": "ed3a188a",
   "metadata": {},
   "source": [
    "# Training NN"
   ]
  },
  {
   "cell_type": "code",
   "execution_count": 5,
   "id": "9b73a3f1",
   "metadata": {},
   "outputs": [],
   "source": [
    "class MyDataset(Dataset):\n",
    "    def __init__(self, rhorho_data_mc,rhorho_data_true,rhorho_labels_mc,rhorho_labels_true):\n",
    "        self.rhorho_data_mc = torch.from_numpy(rhorho_data_mc).float().to(device)\n",
    "        self.rhorho_data_true = torch.from_numpy(rhorho_data_true).float().to(device)\n",
    "        \n",
    "        self.rhorho_labels_mc =torch.from_numpy(rhorho_labels_mc).float().to(device)\n",
    "        self.rhorho_labels_true =torch.from_numpy(rhorho_labels_true).float().to(device)\n",
    "    def __getitem__(self, index):\n",
    "        return self.rhorho_data_mc[index],self.rhorho_data_true[index],self.rhorho_labels_mc[index],self.rhorho_labels_true[index]\n",
    "    def __len__(self):\n",
    "        return min(len(self.rhorho_labels_mc),len(self.rhorho_labels_true))"
   ]
  },
  {
   "cell_type": "code",
   "execution_count": 6,
   "id": "7859f2d5",
   "metadata": {},
   "outputs": [],
   "source": [
    "mc_train_idx=np.random.choice(np.arange(points.train.x.shape[0]),int(points.train.x.shape[0]*0.5),replace=False)\n",
    "true_train_idx=list(set(np.arange(points.train.x.shape[0]))-set(mc_train_idx))\n",
    "\n",
    "mc_valid_idx=np.random.choice(np.arange(points.valid.x.shape[0]),int(points.valid.x.shape[0]*0.5),replace=False)\n",
    "true_valid_idx=list(set(np.arange(points.valid.x.shape[0]))-set(mc_train_idx))\n",
    "\n",
    "mc_test_idx=np.random.choice(np.arange(points.test.x.shape[0]),int(points.test.x.shape[0]*0.5),replace=False)\n",
    "true_test_idx=list(set(np.arange(points.test.x.shape[0]))-set(mc_train_idx))"
   ]
  },
  {
   "cell_type": "code",
   "execution_count": 7,
   "id": "fae75c8a",
   "metadata": {},
   "outputs": [],
   "source": [
    "uncertainty=0.0\n",
    "\n",
    "train_datasets = MyDataset(points.train.x[mc_train_idx], points.train.x[true_train_idx]+uncertainty*np.random.normal(0,1,size=points.train.x[true_train_idx].shape),\n",
    "                          points.train.weights[mc_train_idx],points.train.weights[true_train_idx])\n",
    "train_loader = DataLoader(dataset = train_datasets,batch_size = batch_size,shuffle = True)\n",
    "\n",
    "\n",
    "valid_datasets = MyDataset(points.valid.x[mc_valid_idx], points.valid.x[true_valid_idx]+uncertainty*np.random.normal(0,1,size=points.valid.x[true_valid_idx].shape),\n",
    "                          points.valid.weights[mc_valid_idx],points.valid.weights[true_valid_idx])\n",
    "valid_loader = DataLoader(dataset = valid_datasets,batch_size = batch_size,shuffle = True)\n",
    "\n",
    "\n",
    "test_datasets = MyDataset(points.test.x[mc_test_idx], points.test.x[true_test_idx]+uncertainty*np.random.normal(0,1,size=points.test.x[true_test_idx].shape),\n",
    "                          points.test.weights[mc_test_idx],points.test.weights[true_test_idx])\n",
    "test_loader = DataLoader(dataset = test_datasets,batch_size = batch_size,shuffle = True)"
   ]
  },
  {
   "cell_type": "code",
   "execution_count": 8,
   "id": "40371cad",
   "metadata": {},
   "outputs": [],
   "source": [
    "class NeuralNetwork(nn.Module):\n",
    "    def __init__(self, num_features, num_classes, num_layers=1, size=100, lr=1e-3, drop_prob=0, inplace=False, \n",
    "                 tloss=\"regr_weights\", activation='linear', input_noise=0.0, optimizer=\"AdamOptimizer\"):\n",
    "        super(NeuralNetwork, self).__init__()\n",
    "        self.linear1 = nn.Linear(num_features,size,bias=False)\n",
    "        layers = []\n",
    "        for i in range(num_layers):\n",
    "            layers.extend([nn.Linear(size,size,bias=False),\n",
    "                           nn.BatchNorm1d(size),\n",
    "                           nn.ReLU(),\n",
    "                           nn.Dropout(drop_prob, inplace)\n",
    "                          ])\n",
    "        self.linear_relu_stack = nn.Sequential(*layers)\n",
    "        self.linear2 = nn.Linear(size,num_classes,bias=False)\n",
    "        self.linear3 = nn.Linear(size,2,bias=False)\n",
    "    def forward(self, x):\n",
    "        x = self.linear1(x)\n",
    "        x = self.linear_relu_stack(x)\n",
    "        out = self.linear2(x)\n",
    "        return out"
   ]
  },
  {
   "cell_type": "code",
   "execution_count": 9,
   "id": "6a1e4d07",
   "metadata": {},
   "outputs": [],
   "source": [
    "model_path = os.path.join(os.getcwd() + '/model')\n",
    "if not os.path.exists(model_path): \n",
    "    os.mkdir(os.path.join(model_path))\n",
    "model = NeuralNetwork(num_features=points.train.x.shape[1], num_classes=args.NUM_CLASSES+1,num_layers=args.LAYERS,drop_prob=0).to(device)\n",
    "# model = NeuralNetwork(num_features=points[particle_idx].train.x.shape[1], num_classes=args.NUM_CLASSES,num_layers=args.LAYERS,drop_prob=0).to(device)\n",
    "opt_g=torch.optim.Adam(model.parameters(),lr=1e-3)\n",
    "criterion=nn.CrossEntropyLoss()\n",
    "\n",
    "#early_stopping = EarlyStopping(patience=12, verbose=True,path=model_path+'/'+decaymode+'_best_model.pt')"
   ]
  },
  {
   "cell_type": "code",
   "execution_count": null,
   "id": "4df10978",
   "metadata": {},
   "outputs": [],
   "source": [
    "def save_checkpoint(state, filename=model_path+'/'+decaymode+'_the_best_model_'+str(args.NUM_CLASSES)+'.pt'):\n",
    "    print(\"=> saving checkpoint\")\n",
    "    torch.save(state, filename)"
   ]
  },
  {
   "cell_type": "code",
   "execution_count": 10,
   "id": "38e548ca",
   "metadata": {},
   "outputs": [],
   "source": [
    "def save_checkpoint(state, filename=model_path+'/'+decaymode+'_the_best_model_'+str(args.NUM_CLASSES)+str(args.FEAT)+'.pt'):\n",
    "    print(\"=> saving checkpoint\")\n",
    "    torch.save(state, filename)"
   ]
  },
  {
   "cell_type": "code",
   "execution_count": 11,
   "id": "dd0c1801",
   "metadata": {},
   "outputs": [],
   "source": [
    "def load_checkpoint(checkpoint):\n",
    "    print(\"=> loading checkpoint\")\n",
    "    model.load_state_dict(checkpoint['state_dict'])\n",
    "    opt_g.load_state_dict(checkpoint['opt_g'])"
   ]
  },
  {
   "cell_type": "code",
   "execution_count": null,
   "id": "50623cc3",
   "metadata": {
    "scrolled": true
   },
   "outputs": [],
   "source": [
    "load_checkpoint(torch.load(model_path+'/'+decaymode+'_the_best_model_'+str(args.NUM_CLASSES)+'.pt'))"
   ]
  },
  {
   "cell_type": "code",
   "execution_count": 12,
   "id": "ea9d71af",
   "metadata": {},
   "outputs": [
    {
     "name": "stdout",
     "output_type": "stream",
     "text": [
      "=> loading checkpoint\n"
     ]
    }
   ],
   "source": [
    "load_checkpoint(torch.load(model_path+'/'+decaymode+'_the_best_model_'+str(args.NUM_CLASSES)+str(args.FEAT)+'.pt'))"
   ]
  },
  {
   "cell_type": "code",
   "execution_count": 13,
   "id": "7e517e4e",
   "metadata": {},
   "outputs": [
    {
     "name": "stdout",
     "output_type": "stream",
     "text": [
      "=> saving checkpoint\n",
      " training loss: 1.373 \t acc: 0.458 \t\n",
      "\n",
      " validation loss: 1.209 \t valid acc: 0.470 \t \n",
      " training loss: 1.191 \t acc: 0.475 \t\n",
      "\n",
      " validation loss: 1.157 \t valid acc: 0.474 \t \n",
      " training loss: 1.143 \t acc: 0.481 \t\n",
      "\n",
      " validation loss: 1.103 \t valid acc: 0.487 \t \n",
      " training loss: 1.115 \t acc: 0.484 \t\n",
      "\n",
      " validation loss: 1.079 \t valid acc: 0.474 \t \n",
      " training loss: 1.097 \t acc: 0.487 \t\n",
      "\n",
      " validation loss: 1.064 \t valid acc: 0.486 \t \n",
      " training loss: 1.085 \t acc: 0.488 \t\n",
      "\n",
      " validation loss: 1.051 \t valid acc: 0.492 \t \n",
      " training loss: 1.074 \t acc: 0.490 \t\n",
      "\n",
      " validation loss: 1.032 \t valid acc: 0.496 \t \n",
      " training loss: 1.065 \t acc: 0.492 \t\n",
      "\n",
      " validation loss: 1.033 \t valid acc: 0.486 \t \n",
      " training loss: 1.058 \t acc: 0.492 \t\n",
      "\n",
      " validation loss: 1.014 \t valid acc: 0.498 \t \n",
      " training loss: 1.053 \t acc: 0.494 \t\n",
      "\n",
      " validation loss: 1.011 \t valid acc: 0.497 \t \n",
      " training loss: 1.048 \t acc: 0.495 \t\n",
      "\n",
      " validation loss: 1.005 \t valid acc: 0.498 \t \n",
      " training loss: 1.042 \t acc: 0.495 \t\n",
      "\n",
      " validation loss: 1.011 \t valid acc: 0.496 \t \n",
      " training loss: 1.038 \t acc: 0.495 \t\n",
      "\n",
      " validation loss: 0.998 \t valid acc: 0.498 \t \n",
      " training loss: 1.035 \t acc: 0.497 \t\n",
      "\n",
      " validation loss: 1.004 \t valid acc: 0.498 \t \n",
      " training loss: 1.031 \t acc: 0.496 \t\n",
      "\n",
      " validation loss: 0.991 \t valid acc: 0.501 \t \n",
      " training loss: 1.028 \t acc: 0.497 \t\n",
      "\n",
      " validation loss: 0.994 \t valid acc: 0.500 \t \n",
      " training loss: 1.027 \t acc: 0.498 \t\n",
      "\n",
      " validation loss: 0.990 \t valid acc: 0.501 \t \n",
      " training loss: 1.022 \t acc: 0.497 \t\n",
      "\n",
      " validation loss: 0.988 \t valid acc: 0.501 \t \n",
      " training loss: 1.021 \t acc: 0.499 \t\n",
      "\n",
      " validation loss: 0.981 \t valid acc: 0.501 \t \n",
      " training loss: 1.018 \t acc: 0.499 \t\n",
      "\n",
      " validation loss: 0.982 \t valid acc: 0.502 \t \n",
      " training loss: 1.015 \t acc: 0.500 \t\n",
      "\n",
      " validation loss: 0.973 \t valid acc: 0.503 \t \n",
      " training loss: 1.013 \t acc: 0.500 \t\n",
      "\n",
      " validation loss: 0.977 \t valid acc: 0.502 \t \n",
      " training loss: 1.011 \t acc: 0.501 \t\n",
      "\n",
      " validation loss: 0.976 \t valid acc: 0.502 \t \n",
      " training loss: 1.008 \t acc: 0.502 \t\n",
      "\n",
      " validation loss: 0.975 \t valid acc: 0.502 \t \n",
      " training loss: 1.007 \t acc: 0.502 \t\n",
      "\n",
      " validation loss: 0.969 \t valid acc: 0.506 \t \n",
      " training loss: 1.004 \t acc: 0.506 \t\n",
      "\n",
      " validation loss: 0.970 \t valid acc: 0.512 \t \n",
      " training loss: 0.999 \t acc: 0.516 \t\n",
      "\n",
      " validation loss: 0.959 \t valid acc: 0.533 \t \n",
      " training loss: 0.952 \t acc: 0.581 \t\n",
      "\n",
      " validation loss: 0.805 \t valid acc: 0.689 \t \n",
      " training loss: 0.772 \t acc: 0.716 \t\n",
      "\n",
      " validation loss: 0.680 \t valid acc: 0.754 \t \n",
      " training loss: 0.715 \t acc: 0.740 \t\n",
      "\n",
      " validation loss: 0.644 \t valid acc: 0.769 \t \n",
      " training loss: 0.691 \t acc: 0.750 \t\n",
      "\n",
      " validation loss: 0.625 \t valid acc: 0.777 \t \n",
      " training loss: 0.673 \t acc: 0.756 \t\n",
      "\n",
      " validation loss: 0.625 \t valid acc: 0.776 \t \n",
      " training loss: 0.662 \t acc: 0.761 \t\n",
      "\n",
      " validation loss: 0.596 \t valid acc: 0.785 \t \n",
      " training loss: 0.656 \t acc: 0.762 \t\n",
      "\n",
      " validation loss: 0.592 \t valid acc: 0.786 \t \n",
      " training loss: 0.649 \t acc: 0.765 \t\n",
      "\n",
      " validation loss: 0.586 \t valid acc: 0.790 \t \n",
      " training loss: 0.645 \t acc: 0.767 \t\n",
      "\n",
      " validation loss: 0.581 \t valid acc: 0.790 \t \n",
      " training loss: 0.640 \t acc: 0.768 \t\n",
      "\n",
      " validation loss: 0.581 \t valid acc: 0.791 \t \n",
      " training loss: 0.634 \t acc: 0.770 \t\n",
      "\n",
      " validation loss: 0.584 \t valid acc: 0.791 \t \n",
      " training loss: 0.629 \t acc: 0.772 \t\n",
      "\n",
      " validation loss: 0.575 \t valid acc: 0.792 \t \n",
      " training loss: 0.628 \t acc: 0.772 \t\n",
      "\n",
      " validation loss: 0.566 \t valid acc: 0.795 \t \n",
      " training loss: 0.626 \t acc: 0.772 \t\n",
      "\n",
      " validation loss: 0.571 \t valid acc: 0.794 \t \n",
      " training loss: 0.624 \t acc: 0.773 \t\n",
      "\n",
      " validation loss: 0.560 \t valid acc: 0.798 \t \n",
      " training loss: 0.621 \t acc: 0.774 \t\n",
      "\n",
      " validation loss: 0.561 \t valid acc: 0.796 \t \n",
      " training loss: 0.617 \t acc: 0.775 \t\n",
      "\n",
      " validation loss: 0.552 \t valid acc: 0.800 \t \n",
      " training loss: 0.615 \t acc: 0.776 \t\n",
      "\n",
      " validation loss: 0.575 \t valid acc: 0.791 \t \n",
      " training loss: 0.611 \t acc: 0.777 \t\n",
      "\n",
      " validation loss: 0.549 \t valid acc: 0.803 \t \n",
      " training loss: 0.610 \t acc: 0.778 \t\n",
      "\n",
      " validation loss: 0.553 \t valid acc: 0.799 \t \n",
      " training loss: 0.612 \t acc: 0.777 \t\n",
      "\n",
      " validation loss: 0.565 \t valid acc: 0.795 \t \n",
      " training loss: 0.608 \t acc: 0.779 \t\n",
      "\n",
      " validation loss: 0.541 \t valid acc: 0.805 \t \n",
      " training loss: 0.603 \t acc: 0.780 \t\n",
      "\n",
      " validation loss: 0.559 \t valid acc: 0.798 \t \n",
      " training loss: 0.603 \t acc: 0.780 \t\n",
      "\n",
      " validation loss: 0.535 \t valid acc: 0.806 \t \n",
      " training loss: 0.603 \t acc: 0.780 \t\n",
      "\n",
      " validation loss: 0.546 \t valid acc: 0.801 \t \n",
      " training loss: 0.598 \t acc: 0.782 \t\n",
      "\n",
      " validation loss: 0.541 \t valid acc: 0.803 \t \n",
      " training loss: 0.601 \t acc: 0.780 \t\n",
      "\n",
      " validation loss: 0.548 \t valid acc: 0.802 \t \n",
      " training loss: 0.597 \t acc: 0.782 \t\n",
      "\n",
      " validation loss: 0.537 \t valid acc: 0.804 \t \n",
      " training loss: 0.596 \t acc: 0.782 \t\n",
      "\n",
      " validation loss: 0.538 \t valid acc: 0.804 \t \n",
      " training loss: 0.595 \t acc: 0.783 \t\n",
      "\n",
      " validation loss: 0.536 \t valid acc: 0.804 \t \n",
      " training loss: 0.593 \t acc: 0.783 \t\n",
      "\n",
      " validation loss: 0.550 \t valid acc: 0.799 \t \n",
      " training loss: 0.594 \t acc: 0.783 \t\n",
      "\n",
      " validation loss: 0.538 \t valid acc: 0.805 \t \n",
      " training loss: 0.591 \t acc: 0.784 \t\n",
      "\n",
      " validation loss: 0.537 \t valid acc: 0.804 \t \n",
      " training loss: 0.592 \t acc: 0.784 \t\n",
      "\n",
      " validation loss: 0.531 \t valid acc: 0.806 \t \n",
      " training loss: 0.588 \t acc: 0.785 \t\n",
      "\n",
      " validation loss: 0.539 \t valid acc: 0.803 \t \n",
      " training loss: 0.588 \t acc: 0.785 \t\n",
      "\n",
      " validation loss: 0.541 \t valid acc: 0.803 \t \n",
      " training loss: 0.586 \t acc: 0.786 \t\n",
      "\n",
      " validation loss: 0.532 \t valid acc: 0.805 \t \n",
      " training loss: 0.585 \t acc: 0.786 \t\n",
      "\n",
      " validation loss: 0.535 \t valid acc: 0.807 \t \n",
      " training loss: 0.583 \t acc: 0.787 \t\n",
      "\n",
      " validation loss: 0.529 \t valid acc: 0.807 \t \n",
      " training loss: 0.584 \t acc: 0.786 \t\n",
      "\n",
      " validation loss: 0.530 \t valid acc: 0.808 \t \n",
      " training loss: 0.579 \t acc: 0.788 \t\n",
      "\n",
      " validation loss: 0.525 \t valid acc: 0.808 \t \n",
      " training loss: 0.581 \t acc: 0.787 \t\n",
      "\n",
      " validation loss: 0.539 \t valid acc: 0.803 \t \n",
      " training loss: 0.581 \t acc: 0.787 \t\n",
      "\n",
      " validation loss: 0.536 \t valid acc: 0.805 \t \n",
      " training loss: 0.579 \t acc: 0.787 \t\n",
      "\n",
      " validation loss: 0.522 \t valid acc: 0.809 \t \n",
      " training loss: 0.577 \t acc: 0.788 \t\n",
      "\n",
      " validation loss: 0.519 \t valid acc: 0.811 \t \n",
      " training loss: 0.578 \t acc: 0.788 \t\n",
      "\n",
      " validation loss: 0.525 \t valid acc: 0.809 \t \n",
      " training loss: 0.576 \t acc: 0.789 \t\n",
      "\n",
      " validation loss: 0.531 \t valid acc: 0.807 \t \n",
      " training loss: 0.574 \t acc: 0.789 \t\n",
      "\n",
      " validation loss: 0.523 \t valid acc: 0.808 \t \n",
      " training loss: 0.572 \t acc: 0.790 \t\n",
      "\n",
      " validation loss: 0.522 \t valid acc: 0.809 \t \n",
      " training loss: 0.573 \t acc: 0.790 \t\n",
      "\n",
      " validation loss: 0.518 \t valid acc: 0.810 \t \n",
      " training loss: 0.573 \t acc: 0.790 \t\n",
      "\n",
      " validation loss: 0.525 \t valid acc: 0.808 \t \n",
      " training loss: 0.571 \t acc: 0.791 \t\n",
      "\n",
      " validation loss: 0.521 \t valid acc: 0.811 \t \n",
      " training loss: 0.569 \t acc: 0.792 \t\n",
      "\n",
      " validation loss: 0.533 \t valid acc: 0.806 \t \n",
      " training loss: 0.569 \t acc: 0.792 \t\n",
      "\n",
      " validation loss: 0.526 \t valid acc: 0.808 \t \n",
      " training loss: 0.569 \t acc: 0.792 \t\n",
      "\n",
      " validation loss: 0.527 \t valid acc: 0.807 \t \n",
      " training loss: 0.568 \t acc: 0.792 \t\n",
      "\n",
      " validation loss: 0.525 \t valid acc: 0.809 \t \n",
      " training loss: 0.568 \t acc: 0.792 \t\n",
      "\n",
      " validation loss: 0.517 \t valid acc: 0.812 \t \n",
      " training loss: 0.566 \t acc: 0.792 \t\n",
      "\n",
      " validation loss: 0.524 \t valid acc: 0.809 \t \n",
      " training loss: 0.565 \t acc: 0.792 \t\n",
      "\n",
      " validation loss: 0.517 \t valid acc: 0.812 \t \n",
      " training loss: 0.564 \t acc: 0.793 \t\n",
      "\n",
      " validation loss: 0.516 \t valid acc: 0.811 \t \n",
      " training loss: 0.564 \t acc: 0.793 \t\n",
      "\n",
      " validation loss: 0.516 \t valid acc: 0.811 \t \n",
      " training loss: 0.564 \t acc: 0.793 \t\n",
      "\n",
      " validation loss: 0.514 \t valid acc: 0.813 \t \n",
      " training loss: 0.560 \t acc: 0.794 \t\n",
      "\n",
      " validation loss: 0.510 \t valid acc: 0.813 \t \n",
      " training loss: 0.558 \t acc: 0.795 \t\n",
      "\n",
      " validation loss: 0.517 \t valid acc: 0.810 \t \n",
      " training loss: 0.558 \t acc: 0.795 \t\n",
      "\n",
      " validation loss: 0.514 \t valid acc: 0.812 \t \n",
      " training loss: 0.558 \t acc: 0.795 \t\n",
      "\n",
      " validation loss: 0.514 \t valid acc: 0.811 \t \n",
      " training loss: 0.558 \t acc: 0.795 \t\n",
      "\n",
      " validation loss: 0.512 \t valid acc: 0.812 \t \n",
      " training loss: 0.557 \t acc: 0.796 \t\n",
      "\n",
      " validation loss: 0.518 \t valid acc: 0.809 \t \n",
      " training loss: 0.558 \t acc: 0.796 \t\n",
      "\n",
      " validation loss: 0.519 \t valid acc: 0.810 \t \n",
      " training loss: 0.554 \t acc: 0.796 \t\n",
      "\n",
      " validation loss: 0.516 \t valid acc: 0.811 \t \n",
      " training loss: 0.555 \t acc: 0.796 \t\n"
     ]
    },
    {
     "name": "stdout",
     "output_type": "stream",
     "text": [
      "\n",
      " validation loss: 0.519 \t valid acc: 0.810 \t \n",
      " training loss: 0.554 \t acc: 0.796 \t\n",
      "\n",
      " validation loss: 0.519 \t valid acc: 0.810 \t \n",
      " training loss: 0.552 \t acc: 0.797 \t\n",
      "\n",
      " validation loss: 0.516 \t valid acc: 0.812 \t \n",
      " training loss: 0.552 \t acc: 0.797 \t\n",
      "\n",
      " validation loss: 0.515 \t valid acc: 0.811 \t \n",
      " training loss: 0.552 \t acc: 0.797 \t\n",
      "\n",
      " validation loss: 0.519 \t valid acc: 0.810 \t \n",
      " training loss: 0.551 \t acc: 0.798 \t\n",
      "\n",
      " validation loss: 0.516 \t valid acc: 0.813 \t \n",
      " training loss: 0.550 \t acc: 0.798 \t\n",
      "\n",
      " validation loss: 0.506 \t valid acc: 0.816 \t \n",
      " training loss: 0.550 \t acc: 0.797 \t\n",
      "\n",
      " validation loss: 0.512 \t valid acc: 0.814 \t \n",
      " training loss: 0.547 \t acc: 0.799 \t\n",
      "\n",
      " validation loss: 0.516 \t valid acc: 0.811 \t \n",
      " training loss: 0.548 \t acc: 0.799 \t\n",
      "\n",
      " validation loss: 0.508 \t valid acc: 0.815 \t \n",
      " training loss: 0.547 \t acc: 0.798 \t\n",
      "\n",
      " validation loss: 0.509 \t valid acc: 0.815 \t \n",
      " training loss: 0.545 \t acc: 0.800 \t\n",
      "\n",
      " validation loss: 0.501 \t valid acc: 0.817 \t \n",
      " training loss: 0.545 \t acc: 0.799 \t\n",
      "\n",
      " validation loss: 0.507 \t valid acc: 0.814 \t \n",
      " training loss: 0.544 \t acc: 0.800 \t\n",
      "\n",
      " validation loss: 0.516 \t valid acc: 0.811 \t \n",
      " training loss: 0.545 \t acc: 0.799 \t\n",
      "\n",
      " validation loss: 0.509 \t valid acc: 0.814 \t \n",
      " training loss: 0.544 \t acc: 0.800 \t\n",
      "\n",
      " validation loss: 0.507 \t valid acc: 0.814 \t \n",
      " training loss: 0.542 \t acc: 0.800 \t\n",
      "\n",
      " validation loss: 0.502 \t valid acc: 0.816 \t \n",
      " training loss: 0.541 \t acc: 0.800 \t\n",
      "\n",
      " validation loss: 0.517 \t valid acc: 0.810 \t \n",
      " training loss: 0.541 \t acc: 0.801 \t\n",
      "\n",
      " validation loss: 0.513 \t valid acc: 0.813 \t \n",
      " training loss: 0.542 \t acc: 0.801 \t\n",
      "\n",
      " validation loss: 0.500 \t valid acc: 0.816 \t \n",
      " training loss: 0.540 \t acc: 0.801 \t\n",
      "\n",
      " validation loss: 0.511 \t valid acc: 0.814 \t \n",
      " training loss: 0.539 \t acc: 0.802 \t\n",
      "\n",
      " validation loss: 0.502 \t valid acc: 0.816 \t \n",
      " training loss: 0.541 \t acc: 0.800 \t\n",
      "\n",
      " validation loss: 0.510 \t valid acc: 0.814 \t \n",
      " training loss: 0.541 \t acc: 0.801 \t\n",
      "\n",
      " validation loss: 0.502 \t valid acc: 0.815 \t \n",
      " training loss: 0.538 \t acc: 0.802 \t\n",
      "\n",
      " validation loss: 0.512 \t valid acc: 0.813 \t \n",
      " training loss: 0.538 \t acc: 0.802 \t\n",
      "\n",
      " validation loss: 0.509 \t valid acc: 0.812 \t \n",
      " training loss: 0.537 \t acc: 0.802 \t\n",
      "\n",
      " validation loss: 0.505 \t valid acc: 0.815 \t \n",
      " training loss: 0.538 \t acc: 0.802 \t\n",
      "\n",
      " validation loss: 0.510 \t valid acc: 0.814 \t \n",
      " training loss: 0.537 \t acc: 0.802 \t\n",
      "\n",
      " validation loss: 0.496 \t valid acc: 0.819 \t \n",
      " training loss: 0.535 \t acc: 0.803 \t\n",
      "\n",
      " validation loss: 0.502 \t valid acc: 0.817 \t \n",
      " training loss: 0.533 \t acc: 0.804 \t\n",
      "\n",
      " validation loss: 0.501 \t valid acc: 0.816 \t \n",
      " training loss: 0.536 \t acc: 0.802 \t\n",
      "\n",
      " validation loss: 0.509 \t valid acc: 0.814 \t \n",
      " training loss: 0.535 \t acc: 0.803 \t\n",
      "\n",
      " validation loss: 0.499 \t valid acc: 0.818 \t \n",
      " training loss: 0.536 \t acc: 0.803 \t\n",
      "\n",
      " validation loss: 0.499 \t valid acc: 0.818 \t \n",
      " training loss: 0.533 \t acc: 0.803 \t\n",
      "\n",
      " validation loss: 0.499 \t valid acc: 0.818 \t \n",
      " training loss: 0.534 \t acc: 0.803 \t\n",
      "\n",
      " validation loss: 0.497 \t valid acc: 0.818 \t \n",
      " training loss: 0.533 \t acc: 0.803 \t\n",
      "\n",
      " validation loss: 0.505 \t valid acc: 0.816 \t \n",
      " training loss: 0.533 \t acc: 0.804 \t\n",
      "\n",
      " validation loss: 0.492 \t valid acc: 0.820 \t \n",
      " training loss: 0.533 \t acc: 0.804 \t\n",
      "\n",
      " validation loss: 0.501 \t valid acc: 0.817 \t \n",
      " training loss: 0.534 \t acc: 0.803 \t\n",
      "\n",
      " validation loss: 0.497 \t valid acc: 0.817 \t \n",
      " training loss: 0.532 \t acc: 0.804 \t\n",
      "\n",
      " validation loss: 0.499 \t valid acc: 0.817 \t \n",
      " training loss: 0.532 \t acc: 0.804 \t\n",
      "\n",
      " validation loss: 0.500 \t valid acc: 0.816 \t \n",
      " training loss: 0.530 \t acc: 0.804 \t\n",
      "\n",
      " validation loss: 0.498 \t valid acc: 0.816 \t \n",
      " training loss: 0.532 \t acc: 0.804 \t\n",
      "\n",
      " validation loss: 0.497 \t valid acc: 0.816 \t \n",
      " training loss: 0.529 \t acc: 0.805 \t\n",
      "\n",
      " validation loss: 0.504 \t valid acc: 0.816 \t \n",
      " training loss: 0.530 \t acc: 0.805 \t\n",
      "\n",
      " validation loss: 0.507 \t valid acc: 0.814 \t \n",
      " training loss: 0.531 \t acc: 0.805 \t\n",
      "\n",
      " validation loss: 0.496 \t valid acc: 0.817 \t \n",
      " training loss: 0.530 \t acc: 0.804 \t\n",
      "\n",
      " validation loss: 0.498 \t valid acc: 0.818 \t \n",
      " training loss: 0.530 \t acc: 0.805 \t\n",
      "\n",
      " validation loss: 0.513 \t valid acc: 0.811 \t \n",
      " training loss: 0.530 \t acc: 0.804 \t\n",
      "\n",
      " validation loss: 0.498 \t valid acc: 0.817 \t \n",
      " training loss: 0.529 \t acc: 0.805 \t\n",
      "\n",
      " validation loss: 0.493 \t valid acc: 0.819 \t \n",
      " training loss: 0.528 \t acc: 0.805 \t\n",
      "\n",
      " validation loss: 0.493 \t valid acc: 0.819 \t \n",
      " training loss: 0.526 \t acc: 0.806 \t\n",
      "\n",
      " validation loss: 0.503 \t valid acc: 0.817 \t \n",
      " training loss: 0.528 \t acc: 0.805 \t\n",
      "\n",
      " validation loss: 0.494 \t valid acc: 0.819 \t \n",
      " training loss: 0.526 \t acc: 0.806 \t\n",
      "\n",
      " validation loss: 0.488 \t valid acc: 0.820 \t \n",
      " training loss: 0.527 \t acc: 0.806 \t\n",
      "\n",
      " validation loss: 0.493 \t valid acc: 0.819 \t \n",
      " training loss: 0.527 \t acc: 0.806 \t\n",
      "\n",
      " validation loss: 0.497 \t valid acc: 0.818 \t \n",
      " training loss: 0.525 \t acc: 0.806 \t\n",
      "\n",
      " validation loss: 0.498 \t valid acc: 0.818 \t \n",
      " training loss: 0.526 \t acc: 0.806 \t\n",
      "\n",
      " validation loss: 0.497 \t valid acc: 0.818 \t \n",
      " training loss: 0.525 \t acc: 0.806 \t\n",
      "\n",
      " validation loss: 0.507 \t valid acc: 0.815 \t \n",
      " training loss: 0.526 \t acc: 0.806 \t\n",
      "\n",
      " validation loss: 0.508 \t valid acc: 0.815 \t \n",
      " training loss: 0.525 \t acc: 0.806 \t\n",
      "\n",
      " validation loss: 0.493 \t valid acc: 0.819 \t \n",
      " training loss: 0.525 \t acc: 0.806 \t\n",
      "\n",
      " validation loss: 0.494 \t valid acc: 0.818 \t \n",
      " training loss: 0.524 \t acc: 0.807 \t\n",
      "\n",
      " validation loss: 0.494 \t valid acc: 0.819 \t \n",
      " training loss: 0.524 \t acc: 0.807 \t\n",
      "\n",
      " validation loss: 0.490 \t valid acc: 0.821 \t \n",
      " training loss: 0.525 \t acc: 0.806 \t\n",
      "\n",
      " validation loss: 0.499 \t valid acc: 0.817 \t \n",
      " training loss: 0.524 \t acc: 0.806 \t\n",
      "\n",
      " validation loss: 0.490 \t valid acc: 0.821 \t \n",
      " training loss: 0.523 \t acc: 0.807 \t\n",
      "\n",
      " validation loss: 0.498 \t valid acc: 0.818 \t \n",
      " training loss: 0.523 \t acc: 0.807 \t\n",
      "\n",
      " validation loss: 0.491 \t valid acc: 0.820 \t \n",
      " training loss: 0.522 \t acc: 0.807 \t\n",
      "\n",
      " validation loss: 0.494 \t valid acc: 0.818 \t \n",
      " training loss: 0.523 \t acc: 0.807 \t\n",
      "\n",
      " validation loss: 0.491 \t valid acc: 0.819 \t \n",
      " training loss: 0.521 \t acc: 0.808 \t\n",
      "\n",
      " validation loss: 0.492 \t valid acc: 0.820 \t \n",
      " training loss: 0.522 \t acc: 0.807 \t\n",
      "\n",
      " validation loss: 0.490 \t valid acc: 0.819 \t \n",
      " training loss: 0.521 \t acc: 0.808 \t\n",
      "\n",
      " validation loss: 0.492 \t valid acc: 0.820 \t \n",
      " training loss: 0.522 \t acc: 0.807 \t\n",
      "\n",
      " validation loss: 0.498 \t valid acc: 0.818 \t \n",
      " training loss: 0.521 \t acc: 0.808 \t\n",
      "\n",
      " validation loss: 0.493 \t valid acc: 0.820 \t \n",
      " training loss: 0.521 \t acc: 0.808 \t\n",
      "\n",
      " validation loss: 0.492 \t valid acc: 0.819 \t \n",
      " training loss: 0.519 \t acc: 0.809 \t\n",
      "\n",
      " validation loss: 0.493 \t valid acc: 0.820 \t \n",
      " training loss: 0.517 \t acc: 0.809 \t\n",
      "\n",
      " validation loss: 0.500 \t valid acc: 0.816 \t \n",
      " training loss: 0.519 \t acc: 0.808 \t\n",
      "\n",
      " validation loss: 0.486 \t valid acc: 0.821 \t \n",
      " training loss: 0.520 \t acc: 0.808 \t\n",
      "\n",
      " validation loss: 0.491 \t valid acc: 0.819 \t \n",
      " training loss: 0.518 \t acc: 0.809 \t\n",
      "\n",
      " validation loss: 0.488 \t valid acc: 0.821 \t \n",
      " training loss: 0.519 \t acc: 0.808 \t\n",
      "\n",
      " validation loss: 0.493 \t valid acc: 0.818 \t \n",
      " training loss: 0.519 \t acc: 0.808 \t\n",
      "\n",
      " validation loss: 0.487 \t valid acc: 0.820 \t \n",
      " training loss: 0.518 \t acc: 0.809 \t\n",
      "\n",
      " validation loss: 0.494 \t valid acc: 0.818 \t \n",
      " training loss: 0.518 \t acc: 0.808 \t\n",
      "\n",
      " validation loss: 0.491 \t valid acc: 0.820 \t \n",
      " training loss: 0.517 \t acc: 0.810 \t\n",
      "\n",
      " validation loss: 0.492 \t valid acc: 0.820 \t \n",
      " training loss: 0.517 \t acc: 0.809 \t\n",
      "\n",
      " validation loss: 0.491 \t valid acc: 0.820 \t \n",
      " training loss: 0.518 \t acc: 0.809 \t\n",
      "\n",
      " validation loss: 0.509 \t valid acc: 0.813 \t \n",
      " training loss: 0.516 \t acc: 0.809 \t\n",
      "\n",
      " validation loss: 0.496 \t valid acc: 0.818 \t \n",
      " training loss: 0.516 \t acc: 0.810 \t\n",
      "\n",
      " validation loss: 0.488 \t valid acc: 0.821 \t \n",
      " training loss: 0.518 \t acc: 0.809 \t\n",
      "\n",
      " validation loss: 0.489 \t valid acc: 0.821 \t \n",
      " training loss: 0.517 \t acc: 0.809 \t\n",
      "\n",
      " validation loss: 0.496 \t valid acc: 0.818 \t \n",
      " training loss: 0.515 \t acc: 0.809 \t\n",
      "\n",
      " validation loss: 0.490 \t valid acc: 0.819 \t \n",
      " training loss: 0.516 \t acc: 0.810 \t\n",
      "\n",
      " validation loss: 0.499 \t valid acc: 0.817 \t \n",
      " training loss: 0.515 \t acc: 0.810 \t\n",
      "\n",
      " validation loss: 0.485 \t valid acc: 0.821 \t \n",
      " training loss: 0.515 \t acc: 0.810 \t\n",
      "\n",
      " validation loss: 0.497 \t valid acc: 0.817 \t \n",
      " training loss: 0.514 \t acc: 0.810 \t\n",
      "\n",
      " validation loss: 0.489 \t valid acc: 0.820 \t \n"
     ]
    },
    {
     "name": "stdout",
     "output_type": "stream",
     "text": [
      " training loss: 0.515 \t acc: 0.810 \t\n",
      "\n",
      " validation loss: 0.494 \t valid acc: 0.818 \t \n",
      " training loss: 0.515 \t acc: 0.809 \t\n",
      "\n",
      " validation loss: 0.485 \t valid acc: 0.821 \t \n",
      " training loss: 0.515 \t acc: 0.810 \t\n",
      "\n",
      " validation loss: 0.485 \t valid acc: 0.823 \t \n",
      " training loss: 0.514 \t acc: 0.810 \t\n",
      "\n",
      " validation loss: 0.490 \t valid acc: 0.818 \t \n",
      " training loss: 0.513 \t acc: 0.810 \t\n",
      "\n",
      " validation loss: 0.488 \t valid acc: 0.820 \t \n"
     ]
    }
   ],
   "source": [
    "#import Eearly_stop\n",
    "epoch=200\n",
    "training_loss=[]\n",
    "validation_loss=[]\n",
    "#tr_pred = []\n",
    "#tr_true = []\n",
    "#v_pred = []\n",
    "#v_true = []\n",
    "\n",
    "checkpoint={'state_dict':model.state_dict(), 'opt_g':opt_g.state_dict()}\n",
    "save_checkpoint(checkpoint)\n",
    "\n",
    "with open('Results/TrainingOutputs/'+decaymode+'_TrainingOutputs_'+str(args.NUM_CLASSES)+'.txt','wb') as f:\n",
    "    for i in range(epoch):\n",
    "        model.train()\n",
    "        train_loss,sample_numbers,acc,total_samples,bg_acc=0,0,0,0,0\n",
    "        for batch_idx, (rhorho_s,rhorho_t,label_s,_) in enumerate(train_loader):\n",
    "\n",
    "            opt_g.zero_grad()\n",
    "            rhorho_s=rhorho_s[label_s.sum(axis=1)!=0]\n",
    "            label_s=label_s[label_s.sum(axis=1)!=0]\n",
    "            outputs=model(rhorho_s)\n",
    "            #training_outputs=model(rhorho_s).detach().cpu()\n",
    "            #training_outputs=torch.softmax(torch.cat([training_outputs]),axis=1).numpy()\n",
    "            #training_labels=label_s.cpu().numpy()\n",
    "            \n",
    "            if isinstance(criterion,nn.CrossEntropyLoss):\n",
    "                loss=criterion(outputs,torch.argmax(label_s,axis=1))\n",
    "                _, predictions = torch.max(outputs, 1)\n",
    "                acc+=(predictions==torch.argmax(label_s,axis=1)).sum().item()\n",
    "            else:\n",
    "                loss=criterion(outputs,label_s)\n",
    "            loss.backward()\n",
    "            train_loss+=loss.item()*len(rhorho_s)\n",
    "            sample_numbers+=len(rhorho_s)\n",
    "            opt_g.step()\n",
    "            \n",
    "        print('\\r training loss: %.3f \\t acc: %.3f \\t' %(train_loss/sample_numbers,acc/sample_numbers),end='')\n",
    "        training_loss.append(train_loss/sample_numbers)\n",
    "        #tr_pred.extend(training_outputs)\n",
    "        #tr_true.extend(training_labels)\n",
    "        f.write(('\\r training loss: %.3f \\t acc: %.3f \\t ' %(train_loss/sample_numbers,acc/sample_numbers)).encode())\n",
    "        print()\n",
    "        \n",
    "        vaild_loss,vaild_acc,vaild_numbers,total_samples,bg_acc=0,0,0,0,0\n",
    "        model.eval()\n",
    "        with torch.no_grad():\n",
    "            for batch_idx, (rhorho_s,rhorho_t,label_s,label_t) in enumerate(valid_loader):\n",
    "                total_samples+=len(rhorho_t)\n",
    "                rhorho_t= rhorho_t[label_t.sum(axis=1)!=0]\n",
    "                label_t = label_t[label_t.sum(axis=1)!=0]\n",
    "                #valid_labels=label_t.cpu().numpy()\n",
    "                outputs=model(rhorho_t)\n",
    "                #valid_outputs = model(rhorho_t).detach().cpu()\n",
    "                #valid_outputs=torch.softmax(torch.cat([valid_outputs]),axis=1).numpy()\n",
    "                \n",
    "                _, predictions = torch.max(outputs, 1)\n",
    "                vaild_acc+=(predictions==torch.argmax(label_t,axis=1)).sum().item()\n",
    "                vaild_numbers+=len(rhorho_t)\n",
    "                if isinstance(criterion,nn.CrossEntropyLoss):\n",
    "                    loss=criterion(outputs,torch.argmax(label_t,axis=1))\n",
    "                else:\n",
    "                    loss=criterion(output,label_t)\n",
    "                vaild_loss+=loss.item()*len(rhorho_t)\n",
    "                \n",
    "        print()\n",
    "        print('\\r validation loss: %.3f \\t valid acc: %.3f \\t ' %(vaild_loss/vaild_numbers,vaild_acc/vaild_numbers),end='')\n",
    "        f.write(('\\r validation loss: %.3f \\t valid acc: %.3f \\t ' %(vaild_loss/vaild_numbers,vaild_acc/vaild_numbers)).encode())\n",
    "        print()\n",
    "        validation_loss.append(vaild_loss/vaild_numbers)\n",
    "        #v_pred.extend(valid_outputs)\n",
    "        #v_true.extend(valid_labels)\n",
    "        #early_stopping(-vaild_acc/vaild_numbers,model)\n",
    "        #if early_stopping.early_stop:\n",
    "            #print(\"Early stopping\")\n",
    "            #f.write((\"Early stopping\").encode())\n",
    "            #break;\n",
    "            # test_loss=0\n",
    "    # with torch.no_grad():\n",
    "    #     for inputs, label in test_loader:\n",
    "    #         outputs=model(inputs)\n",
    "    #         test_loss+=mse_loss(outputs,label).item()*len(inputs)\n",
    "    #     print('test loss: %f' %(test_loss/len(test_loader.dataset.tensors[0])))\n"
   ]
  },
  {
   "cell_type": "code",
   "execution_count": 14,
   "id": "6d900047",
   "metadata": {},
   "outputs": [
    {
     "data": {
      "image/png": "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\n",
      "text/plain": [
       "<Figure size 432x288 with 1 Axes>"
      ]
     },
     "metadata": {
      "needs_background": "light"
     },
     "output_type": "display_data"
    }
   ],
   "source": [
    "colors=['skyblue','orange']\n",
    "plt.plot(training_loss, color=colors[0],label='training loss')\n",
    "plt.plot(validation_loss, color=colors[1],label='validation_loss')\n",
    "plt.legend(loc='best')\n",
    "plt.ylabel('loss')\n",
    "plt.xlabel('epoch')\n",
    "plt.title('loss vs epoch (signal background classification) with epoches = 200')\n",
    "TestResults_path = os.path.join(os.getcwd() + '/Results/TestResults/')\n",
    "if not os.path.exists(TestResults_path): \n",
    "    os.mkdir(os.path.join(TestResults_path))\n",
    "plt.savefig(TestResults_path+decaymode+'_loss.pdf')\n",
    "plt.show()"
   ]
  },
  {
   "cell_type": "markdown",
   "id": "6ee08932",
   "metadata": {},
   "source": [
    "# confusion matrix"
   ]
  },
  {
   "cell_type": "markdown",
   "id": "49dd6ec7",
   "metadata": {},
   "source": [
    "## training"
   ]
  },
  {
   "cell_type": "code",
   "execution_count": null,
   "id": "266e69cd",
   "metadata": {},
   "outputs": [],
   "source": [
    "import seaborn as sns"
   ]
  },
  {
   "cell_type": "code",
   "execution_count": null,
   "id": "68e3a26d",
   "metadata": {},
   "outputs": [],
   "source": [
    "Trues_train = np.argmax(tr_true, axis=1)\n",
    "prediction_train = np.argmax(tr_pred, axis=1)"
   ]
  },
  {
   "cell_type": "code",
   "execution_count": null,
   "id": "2b5f8e0c",
   "metadata": {},
   "outputs": [],
   "source": [
    "cf_matrix_train = confusion_matrix(Trues_train, prediction_train)\n",
    "cf_matrix_train_n = cf_matrix_train.astype('float') / cf_matrix_train.sum(axis=1)[:, np.newaxis]"
   ]
  },
  {
   "cell_type": "code",
   "execution_count": null,
   "id": "e6daaf21",
   "metadata": {},
   "outputs": [],
   "source": [
    "df_cm_train_n = pd.DataFrame(cf_matrix_train_n)\n",
    "ax = plt.subplots(figsize=(12, 8), dpi=100)\n",
    "plt.ylabel('True')\n",
    "plt.xlabel('Predicted')\n",
    "sns.heatmap(df_cm_train_n, annot=True, fmt='.2f', square=True, linewidths=.5, cmap=\"YlGnBu\")\n",
    "TestResults_path = os.path.join(os.getcwd() + '/Results/TestResults/')\n",
    "if not os.path.exists(TestResults_path):\n",
    "    os.mkdir(os.path.join(TestResults_path))\n",
    "plt.savefig(TestResults_path+decaymode+'_train_confusion_matrix_norm.pdf')"
   ]
  },
  {
   "cell_type": "markdown",
   "id": "ed7bab5e",
   "metadata": {},
   "source": [
    "## validation"
   ]
  },
  {
   "cell_type": "code",
   "execution_count": null,
   "id": "178f71ed",
   "metadata": {},
   "outputs": [],
   "source": [
    "Trues_valid = np.argmax(v_true, axis=1)\n",
    "prediction_valid = np.argmax(v_pred, axis=1)"
   ]
  },
  {
   "cell_type": "code",
   "execution_count": null,
   "id": "6a23717b",
   "metadata": {},
   "outputs": [],
   "source": [
    "cf_matrix_valid = confusion_matrix(Trues_valid, prediction_valid)\n",
    "cf_matrix_valid_n = cf_matrix_valid.astype('float') / cf_matrix_valid.sum(axis=1)[:, np.newaxis]"
   ]
  },
  {
   "cell_type": "code",
   "execution_count": null,
   "id": "f8697f2b",
   "metadata": {},
   "outputs": [],
   "source": [
    "df_cm_valid_n = pd.DataFrame(cf_matrix_valid_n)\n",
    "ax = plt.subplots(figsize=(12, 8), dpi=100)\n",
    "plt.ylabel('True')\n",
    "plt.xlabel('Predicted')\n",
    "sns.heatmap(df_cm_valid_n, annot=True, fmt='.2f', square=True, linewidths=.5, cmap=\"YlGnBu\")\n",
    "TestResults_path = os.path.join(os.getcwd() + '/Results/TestResults/')\n",
    "if not os.path.exists(TestResults_path):\n",
    "    os.mkdir(os.path.join(TestResults_path))\n",
    "plt.savefig(TestResults_path+decaymode+'_valid_confusion_matrix_norm.pdf')"
   ]
  },
  {
   "cell_type": "markdown",
   "id": "6307df0e",
   "metadata": {},
   "source": [
    "# Preprocessing singal and bkgd from all the decaymodes"
   ]
  },
  {
   "cell_type": "code",
   "execution_count": null,
   "id": "9419471a",
   "metadata": {},
   "outputs": [],
   "source": [
    "events={'nn_rhorho':'RhoRhoEvent', 'nn_a1rho':'A1RhoEvent', 'nn_a1a1':'A1A1Event'}\n",
    "if args.REPRO:\n",
    "    args.Z_NOISE_FRACTION = 1\n",
    "    args.IN = 'HiggsCP_data/'+decaymode\n",
    "    args.TYPE = 'nn_'+decaymode\n",
    "    data, weights, argmaxs, perm, c012s, hits_argmaxs, hits_c012s = preprocess_data(args)\n",
    "    event = eval(events[args.TYPE])(data, args)\n",
    "    points = EventDatasets(event, weights, argmaxs, perm, c012s=c012s, hits_argmaxs=hits_argmaxs,  hits_c012s=hits_c012s, miniset=args.MINISET, unweighted=args.UNWEIGHTED)\n",
    "    pickle.dump(points,open(args.IN+'/events_w_background21_test_wo_nu.pk','wb'))"
   ]
  },
  {
   "cell_type": "markdown",
   "id": "4bbc2a44",
   "metadata": {},
   "source": [
    "## signal background classification"
   ]
  },
  {
   "cell_type": "code",
   "execution_count": null,
   "id": "8ace887d",
   "metadata": {},
   "outputs": [],
   "source": [
    "events={'nn_rhorho':'RhoRhoEvent', 'nn_a1rho':'A1RhoEvent', 'nn_a1a1':'A1A1Event'}\n",
    "if args.REPRO:\n",
    "    args.LABEL = False\n",
    "    args.Z_NOISE_FRACTION = 1\n",
    "    args.IN = 'HiggsCP_data/'+decaymode+'_bkgd'\n",
    "    args.TYPE = 'nn_'+decaymode\n",
    "    data, weights, argmaxs, perm, c012s, hits_argmaxs, hits_c012s = preprocess_data(args)\n",
    "    event = eval(events[args.TYPE])(data, args)\n",
    "    points = EventDatasets(event, weights, argmaxs, perm, c012s=c012s, hits_argmaxs=hits_argmaxs,  hits_c012s=hits_c012s, miniset=args.MINISET, unweighted=args.UNWEIGHTED)\n",
    "    pickle.dump(points,open(args.IN+'/events_w_background11_test.pk','wb'))"
   ]
  },
  {
   "cell_type": "markdown",
   "id": "7bfaaa42",
   "metadata": {},
   "source": [
    "# Loading bkgd samples"
   ]
  },
  {
   "cell_type": "code",
   "execution_count": null,
   "id": "058dde3f",
   "metadata": {},
   "outputs": [],
   "source": [
    "background_points=pickle.load(open(args.IN+'/events_w_background21_test_wo_nu.pk','rb'))"
   ]
  },
  {
   "cell_type": "markdown",
   "id": "e3193bb8",
   "metadata": {},
   "source": [
    "## signal background classification"
   ]
  },
  {
   "cell_type": "code",
   "execution_count": 15,
   "id": "f6641516",
   "metadata": {},
   "outputs": [],
   "source": [
    "background_points=pickle.load(open(args.IN+'/events_w_background11_test.pk','rb'))"
   ]
  },
  {
   "cell_type": "markdown",
   "id": "6945a91d",
   "metadata": {},
   "source": [
    "## loading"
   ]
  },
  {
   "cell_type": "code",
   "execution_count": 16,
   "id": "8aecd049",
   "metadata": {},
   "outputs": [],
   "source": [
    "background=[]\n",
    "background.append(background_points.train.x[background_points.train.weights.sum(axis=1)==0])\n",
    "background.append(background_points.valid.x[background_points.valid.weights.sum(axis=1)==0])\n",
    "background.append(background_points.test.x[background_points.test.weights.sum(axis=1)==0])"
   ]
  },
  {
   "cell_type": "code",
   "execution_count": 17,
   "id": "c32450bf",
   "metadata": {},
   "outputs": [
    {
     "name": "stdout",
     "output_type": "stream",
     "text": [
      "(1000000, 24)\n"
     ]
    }
   ],
   "source": [
    "background=np.concatenate(background)\n",
    "print(background.shape)"
   ]
  },
  {
   "cell_type": "code",
   "execution_count": 18,
   "id": "a98f43ec",
   "metadata": {},
   "outputs": [],
   "source": [
    "background=torch.tensor(background).float().to(device)"
   ]
  },
  {
   "cell_type": "markdown",
   "id": "d1769d41",
   "metadata": {},
   "source": [
    "# Testing NN w/ bkgd only"
   ]
  },
  {
   "cell_type": "code",
   "execution_count": 19,
   "id": "4434c756",
   "metadata": {},
   "outputs": [
    {
     "data": {
      "application/vnd.jupyter.widget-view+json": {
       "model_id": "36b81d3b62024a94bfb7a0a716f35991",
       "version_major": 2,
       "version_minor": 0
      },
      "text/plain": [
       "  0%|          | 0/977 [00:00<?, ?it/s]"
      ]
     },
     "metadata": {},
     "output_type": "display_data"
    }
   ],
   "source": [
    "model.eval()\n",
    "with torch.no_grad():\n",
    "    outputs=[]\n",
    "    #for i in tqdm(range(0, 400000,batch_size)):\n",
    "    for i in tqdm(range(500000, 1000000,batch_size)):\n",
    "        outputs.append(model(background[i:i+batch_size]).detach().cpu())\n",
    "outputs=torch.cat(outputs)\n",
    "\n",
    "bg_outputs=torch.argmax(torch.softmax(outputs,axis=1),axis=1).numpy()\n",
    "bg_labels_counts=np.unique(bg_outputs,return_counts=True)[1]"
   ]
  },
  {
   "cell_type": "code",
   "execution_count": 20,
   "id": "53c55859",
   "metadata": {},
   "outputs": [],
   "source": [
    "pickle.dump(bg_outputs,open(args.IN+'/NN_outputs_background11_only.pk','wb'))"
   ]
  },
  {
   "cell_type": "markdown",
   "id": "541c9af3",
   "metadata": {},
   "source": [
    "# Testing NN w/ signal only (Class 0)"
   ]
  },
  {
   "cell_type": "code",
   "execution_count": 21,
   "id": "0f637cff",
   "metadata": {},
   "outputs": [],
   "source": [
    "model.eval()\n",
    "with torch.no_grad():\n",
    "    signal_outputs,signal_labels=[],[]\n",
    "    for batch_idx, (rhorho_s,rhorho_t,label_s,_) in enumerate(train_loader):\n",
    "        signal_outputs.append(model(rhorho_s).detach().cpu())\n",
    "        signal_labels.append(label_s.detach().cpu())\n",
    "signal_outputs=torch.softmax(torch.cat(signal_outputs),axis=1).numpy()\n",
    "signal_labels=np.concatenate(signal_labels)\n",
    "\n",
    "####### Filtering signal outputs that are classified to Class 0\n",
    "signal_outputs=signal_outputs[np.argmax(signal_labels,axis=1)==0]\n",
    "signal_labels=np.argmax(signal_outputs,axis=1)"
   ]
  },
  {
   "cell_type": "code",
   "execution_count": 22,
   "id": "fab5d558",
   "metadata": {},
   "outputs": [],
   "source": [
    "pickle.dump(signal_outputs,open(args.IN+'/NN_outputs_signal11_only.pk','wb'))"
   ]
  },
  {
   "cell_type": "markdown",
   "id": "7508edf6",
   "metadata": {},
   "source": [
    "# Test Results"
   ]
  },
  {
   "cell_type": "code",
   "execution_count": 23,
   "id": "ee354a09",
   "metadata": {},
   "outputs": [],
   "source": [
    "bg_outputs = pickle.load(open(args.IN+'/NN_outputs_background11_only.pk','rb'))\n",
    "signal_outputs= pickle.load(open(args.IN+'/NN_outputs_signal11_only.pk','rb'))"
   ]
  },
  {
   "cell_type": "code",
   "execution_count": 24,
   "id": "9a071703",
   "metadata": {},
   "outputs": [
    {
     "data": {
      "text/plain": [
       "Text(0, 0.5, 'Events')"
      ]
     },
     "execution_count": 24,
     "metadata": {},
     "output_type": "execute_result"
    },
    {
     "data": {
      "image/png": "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\n",
      "text/plain": [
       "<Figure size 900x600 with 1 Axes>"
      ]
     },
     "metadata": {
      "needs_background": "light"
     },
     "output_type": "display_data"
    }
   ],
   "source": [
    "# create the dataframe; enumerate is used to make column names\n",
    "columns=['Ztt','Signal']\n",
    "fig,ax=plt.subplots(dpi=150)\n",
    "\n",
    "df = pd.concat([pd.DataFrame(a, columns=[columns[i]]) for i, a in enumerate([bg_outputs, np.argmax(signal_outputs,axis=1)], 0)], axis=1)\n",
    "# plot the data\n",
    "#ax.set_xlim(0,args.NUM_CLASSES-1)\n",
    "ax.set_xlim(0,args.NUM_CLASSES)\n",
    "#ax = df.plot.hist(stacked=True, bins=args.NUM_CLASSES-1,ax=ax, color = ['skyblue','red']).get_figure()\n",
    "ax = df.plot.hist(stacked=True, bins=args.NUM_CLASSES,ax=ax, color = ['skyblue','red']).get_figure()\n",
    "plt.xlabel(\"Classes\")\n",
    "plt.ylabel(\"Events\")\n",
    "# ax.set_xticks(np.arange(args.NUM_CLASSES-1))\n",
    "# ax.set_xticklabels((np.linspace(0,2,args.NUM_CLASSES-1)*np.pi))\n",
    "#bars = ax.patches\n",
    "# hatches = ['/','\\\\']\n",
    "\n",
    "# for i in range(2):\n",
    "#     for j in range(args.NUM_CLASSES-1):\n",
    "#         bars[i*(args.NUM_CLASSES-1)+j].set_hatch(hatches[i])"
   ]
  },
  {
   "cell_type": "code",
   "execution_count": 25,
   "id": "4e5b64f4",
   "metadata": {},
   "outputs": [],
   "source": [
    "TestResults_path = os.path.join(os.getcwd()) + '/Results/TestResults/'\n",
    "if not os.path.exists(TestResults_path): \n",
    "    os.mkdir(os.path.join(TestResults_path))\n",
    "ax.savefig(TestResults_path+decaymode+'_TestResults.pdf')"
   ]
  },
  {
   "cell_type": "code",
   "execution_count": 26,
   "id": "39e3596e",
   "metadata": {},
   "outputs": [],
   "source": [
    "signal_df = pd.DataFrame(np.argmax(signal_outputs, axis=1), columns=[columns[1]])\n",
    "bkgd_df = pd.DataFrame(bg_outputs, columns=[columns[0]])\n",
    "signal_df = signal_df.groupby('Signal').size().to_frame('SgCounts').reset_index().rename({'Signal':'Class'},axis=1)\n",
    "bkgd_df = bkgd_df.groupby('Ztt').size().to_frame('BgCounts').reset_index().rename({'Ztt':'Class'},axis=1)\n",
    "total = pd.concat([signal_df,bkgd_df['BgCounts']],axis = 1) "
   ]
  },
  {
   "cell_type": "code",
   "execution_count": 27,
   "id": "9cba1409",
   "metadata": {},
   "outputs": [
    {
     "data": {
      "image/png": "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\n",
      "text/plain": [
       "<Figure size 900x1500 with 2 Axes>"
      ]
     },
     "metadata": {
      "needs_background": "light"
     },
     "output_type": "display_data"
    }
   ],
   "source": [
    "import seaborn as sns\n",
    "import matplotlib.patches as mpatches\n",
    "\n",
    "fig, axis = plt.subplots(2,1,figsize=(6,10),dpi=150)\n",
    "fig.suptitle( decaymode + \" Test Results\", fontsize=15)\n",
    "axis[0].set_title('Signal + Background Results', fontsize=11)\n",
    "axis[1].set_title('Background Results with Error Bar', fontsize=11)\n",
    "# set plot style: grey grid in the background:\n",
    "sns.set(style=\"dark\")\n",
    "\n",
    "total[['BgCounts','SgCounts']].plot(kind=\"bar\", ax = axis[0],stacked=True,color = ['skyblue','r']).get_figure()\n",
    "\n",
    "# add legend\n",
    "top_bar = mpatches.Patch(color='r', label='Signal')\n",
    "bottom_bar = mpatches.Patch(color='skyblue', label='Ztt')\n",
    "axis[0].legend(handles=[top_bar, bottom_bar])\n",
    "\n",
    "for i in range(len(axis)): \n",
    "    axis[i].set_xlabel(\"Classes\",fontsize=10)\n",
    "    axis[i].set_ylabel(\"Events\",fontsize=10)\n",
    "\n",
    "\n",
    "Poisson_std = [math.sqrt(i) for i in total['BgCounts'].to_numpy()]\n",
    "total[['BgCounts']].plot(kind=\"bar\", ax = axis[1],stacked=True,color = ['skyblue','r'], yerr = Poisson_std, alpha = 1)\n",
    "# ax.bar(x_pos, CTEs, yerr=error, align='center', alpha=0.5, ecolor='black', capsize=10)\n",
    "axis[1].legend(handles=[bottom_bar])\n",
    "\n",
    "# show the graph\n",
    "plt.show()"
   ]
  },
  {
   "cell_type": "code",
   "execution_count": 28,
   "id": "b1c213d3",
   "metadata": {},
   "outputs": [],
   "source": [
    "TestResults_path = os.path.join(os.getcwd() + '/Results/TestResults/')\n",
    "if not os.path.exists(TestResults_path): \n",
    "    os.mkdir(os.path.join(TestResults_path))\n",
    "fig.savefig(TestResults_path+decaymode+'_TestResults2.pdf')"
   ]
  },
  {
   "cell_type": "code",
   "execution_count": 29,
   "id": "fb396449",
   "metadata": {},
   "outputs": [
    {
     "data": {
      "text/plain": [
       "Text(0, 0.5, 'Events')"
      ]
     },
     "execution_count": 29,
     "metadata": {},
     "output_type": "execute_result"
    },
    {
     "data": {
      "image/png": "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\n",
      "text/plain": [
       "<Figure size 900x600 with 1 Axes>"
      ]
     },
     "metadata": {},
     "output_type": "display_data"
    }
   ],
   "source": [
    "columns=['Signal']\n",
    "fig,ax=plt.subplots(dpi=150)\n",
    "\n",
    "df = pd.concat([pd.DataFrame(a, columns=[columns[i]]) for i, a in enumerate([np.argmax(signal_outputs,axis=1)], 0)], axis=1)\n",
    "# plot the data\n",
    "ax.set_xlim(0,args.NUM_CLASSES)\n",
    "ax = df.plot.hist(stacked=True, bins=args.NUM_CLASSES,ax=ax, color = ['red']).get_figure()\n",
    "plt.xlabel(\"Classes\")\n",
    "plt.ylabel(\"Events\")"
   ]
  },
  {
   "cell_type": "code",
   "execution_count": 30,
   "id": "4cc5c9af",
   "metadata": {},
   "outputs": [],
   "source": [
    "TestResults_path = os.path.join(os.getcwd()) + '/Results/TestResults/'\n",
    "if not os.path.exists(TestResults_path): \n",
    "    os.mkdir(os.path.join(TestResults_path))\n",
    "ax.savefig(TestResults_path+decaymode+'_TestResults3.pdf')"
   ]
  },
  {
   "cell_type": "code",
   "execution_count": 31,
   "id": "e7bde986",
   "metadata": {},
   "outputs": [
    {
     "data": {
      "text/plain": [
       "Text(0, 0.5, 'Events')"
      ]
     },
     "execution_count": 31,
     "metadata": {},
     "output_type": "execute_result"
    },
    {
     "data": {
      "image/png": "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\n",
      "text/plain": [
       "<Figure size 900x600 with 1 Axes>"
      ]
     },
     "metadata": {},
     "output_type": "display_data"
    }
   ],
   "source": [
    "columns=['Ztt','Signal']\n",
    "fig,ax=plt.subplots(dpi=150)\n",
    "\n",
    "df = pd.concat([pd.DataFrame(a, columns=[columns[i]]) for i, a in enumerate([bg_outputs], 0)], axis=1)\n",
    "# plot the data\n",
    "ax.set_xlim(1,args.NUM_CLASSES-1)\n",
    "ax.set_ylim(0,1300)\n",
    "ax = df.plot.hist(stacked=True, bins=args.NUM_CLASSES,ax=ax, color = ['skyblue']).get_figure()\n",
    "plt.xlabel(\"Classes\")\n",
    "plt.ylabel(\"Events\")"
   ]
  },
  {
   "cell_type": "code",
   "execution_count": 32,
   "id": "a1b2e192",
   "metadata": {},
   "outputs": [],
   "source": [
    "TestResults_path = os.path.join(os.getcwd()) + '/Results/TestResults/'\n",
    "if not os.path.exists(TestResults_path): \n",
    "    os.mkdir(os.path.join(TestResults_path))\n",
    "ax.savefig(TestResults_path+decaymode+'_TestResults4.pdf')"
   ]
  },
  {
   "cell_type": "code",
   "execution_count": 33,
   "id": "3515b404",
   "metadata": {},
   "outputs": [
    {
     "name": "stdout",
     "output_type": "stream",
     "text": [
      "    Class  BgCounts\n",
      "0       0     17849\n",
      "1       1       952\n",
      "2       2       865\n",
      "3       3      1212\n",
      "4       4      1112\n",
      "5       5      1040\n",
      "6       6      1139\n",
      "7       7      1180\n",
      "8       8       973\n",
      "9       9      1042\n",
      "10     10     18795\n",
      "11     11    453841\n",
      "    Class  SgCounts\n",
      "0       0    124831\n",
      "1       1       872\n",
      "2       2        73\n",
      "3       3        66\n",
      "4       4        31\n",
      "5       5        19\n",
      "6       6         8\n",
      "7       7        16\n",
      "8       8         5\n",
      "9       9         3\n",
      "10     10      3161\n",
      "11     11     13560\n"
     ]
    }
   ],
   "source": [
    "print(bkgd_df)\n",
    "print(signal_df)"
   ]
  },
  {
   "cell_type": "markdown",
   "id": "a6581269",
   "metadata": {},
   "source": [
    "## confusion matrix for testing"
   ]
  },
  {
   "cell_type": "code",
   "execution_count": 34,
   "id": "3795041b",
   "metadata": {},
   "outputs": [],
   "source": [
    "t_pred = []\n",
    "t_true = []\n",
    "model.eval()\n",
    "with torch.no_grad():\n",
    "    for batch_idx, (rhorho_s,rhorho_t,label_s,label_t) in enumerate(test_loader):\n",
    "        \n",
    "        \n",
    "        outputs = model(rhorho_t).detach().cpu()\n",
    "        outputs=torch.softmax(torch.cat([outputs]),axis=1).numpy()\n",
    "        t_pred.extend(outputs)\n",
    "        \n",
    "        labels=label_t.cpu().numpy()\n",
    "        t_true.extend(labels)\n",
    "     "
   ]
  },
  {
   "cell_type": "code",
   "execution_count": 35,
   "id": "269baa23",
   "metadata": {},
   "outputs": [],
   "source": [
    "Trues_test = np.argmax(t_true, axis=1)\n",
    "prediction_test = np.argmax(t_pred, axis=1)"
   ]
  },
  {
   "cell_type": "code",
   "execution_count": 36,
   "id": "def5a999",
   "metadata": {},
   "outputs": [],
   "source": [
    "cf_matrix_test = confusion_matrix(Trues_test, prediction_test)\n",
    "cf_matrix_test_n = cf_matrix_test.astype('float') / cf_matrix_test.sum(axis=1)[:, np.newaxis]"
   ]
  },
  {
   "cell_type": "code",
   "execution_count": 37,
   "id": "3dff6776",
   "metadata": {},
   "outputs": [
    {
     "data": {
      "image/png": "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\n",
      "text/plain": [
       "<Figure size 1200x800 with 2 Axes>"
      ]
     },
     "metadata": {},
     "output_type": "display_data"
    }
   ],
   "source": [
    "df_cm_test_n = pd.DataFrame(cf_matrix_test_n)\n",
    "ax = plt.subplots(figsize=(12, 8), dpi=100)\n",
    "plt.ylabel('True')\n",
    "plt.xlabel('Predicted')\n",
    "sns.heatmap(df_cm_test_n, annot=True, fmt='.2f', square=True, linewidths=.5, cmap=\"YlGnBu\")\n",
    "TestResults_path = os.path.join(os.getcwd() + '/Results/TestResults/')\n",
    "if not os.path.exists(TestResults_path):\n",
    "    os.mkdir(os.path.join(TestResults_path))\n",
    "plt.savefig(TestResults_path+decaymode+'_test_confusion_matrix_norm.pdf')"
   ]
  },
  {
   "cell_type": "markdown",
   "id": "a1e9107a",
   "metadata": {},
   "source": [
    "# Feature importance"
   ]
  },
  {
   "cell_type": "code",
   "execution_count": null,
   "id": "3458943a",
   "metadata": {},
   "outputs": [],
   "source": [
    "particle_name = ['n', 'pi-', 'pi0_1', 'an', 'pi+', 'pi0_2']\n",
    "affiliated_name =['p_x', 'p_y', 'p_z', 'E']"
   ]
  },
  {
   "cell_type": "code",
   "execution_count": null,
   "id": "34f6cad6",
   "metadata": {},
   "outputs": [],
   "source": [
    "features_names=[ x+'_'+y for x in particle_name for y in affiliated_name]"
   ]
  },
  
