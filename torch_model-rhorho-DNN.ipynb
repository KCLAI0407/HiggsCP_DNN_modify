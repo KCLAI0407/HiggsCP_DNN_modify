{
 "cells": [
  {
   "cell_type": "code",
   "execution_count": null,
   "id": "87e49442",
   "metadata": {},
   "outputs": [],
   "source": [
    "import numpy as np\n",
    "import torch\n",
    "import torch.nn as nn\n",
    "import torch.nn.functional as F\n",
    "import pickle\n",
    "from tqdm.notebook import tqdm\n",
    "from Eearly_stop import *\n",
    "from sklearn.metrics import roc_auc_score, accuracy_score\n",
    "import sys\n",
    "import pandas as pd\n",
    "import argparse\n",
    "import os\n",
    "import matplotlib.pyplot as plt\n",
    "import warnings\n",
    "warnings.filterwarnings('ignore')\n",
    "import math\n",
    "from torch.utils.data import Dataset, DataLoader\n",
    "from src_py.cpmix_utils import preprocess_data\n",
    "from src_py.rhorho import RhoRhoEvent\n",
    "from src_py.a1a1 import A1A1Event\n",
    "from src_py.a1rho import A1RhoEvent\n",
    "from src_py.data_utils import read_np, EventDatasets\n",
    "from src_py.process_background import convert_bkgd_raw\n",
    "import train_rhorho, train_a1rho, train_a1a1\n",
    "from src_py.metrics_utils import calculate_deltas_unsigned, calculate_deltas_signed"
   ]
  },
  {
   "cell_type": "code",
   "execution_count": null,
   "id": "a5e91a9a",
   "metadata": {},
   "outputs": [],
   "source": [
    "device = torch.device('cuda:0') if torch.cuda.is_available() else torch.device('cpu')\n",
    "print('Using {} device'.format(device))"
   ]
  },
  {
   "cell_type": "code",
   "execution_count": null,
   "id": "da403d8d",
   "metadata": {},
   "outputs": [],
   "source": [
    "decaymodes = ['rhorho', 'a1rho', 'a1a1']\n",
    "types = {\"nn_rhorho\": train_rhorho.start,\"nn_a1rho\": train_a1rho.start,\"nn_a1a1\": train_a1a1.start}\n",
    "parser = argparse.ArgumentParser(description='Train classifier')\n",
    "\n",
    "parser.add_argument(\"--num_classes\", dest=\"NUM_CLASSES\", type=int, default=21)\n",
    "parser.add_argument(\"-l\", \"--layers\", dest=\"LAYERS\", type=int, help = \"number of NN layers\", default=6)\n",
    "parser.add_argument(\"-s\", \"--size\", dest=\"SIZE\", type=int, help=\"NN size\", default=1000)\n",
    "parser.add_argument(\"-lambda\", \"--lambda\", type=float, dest=\"LAMBDA\", help=\"value of lambda parameter\", default=0.0)\n",
    "parser.add_argument(\"-m\", \"--method\", dest=\"METHOD\", choices=[\"A\", \"B\", \"C\"], default=\"A\")\n",
    "parser.add_argument(\"-o\", \"--optimizer\", dest=\"OPT\", \n",
    "    choices=[\"GradientDescentOptimizer\", \"AdadeltaOptimizer\", \"AdagradOptimizer\",\n",
    "         \"ProximalAdagradOptimizer\", \"AdamOptimizer\", \"FtrlOptimizer\",\n",
    "         \"ProximalGradientDescentOptimizer\", \"RMSPropOptimizer\"], default=\"AdamOptimizer\")\n",
    "parser.add_argument(\"-d\", \"--dropout\", dest=\"DROPOUT\", type=float, default=0.0)\n",
    "parser.add_argument(\"-e\", \"--epochs\", dest=\"EPOCHS\", type=int, default=25)\n",
    "# parser.add_argument(\"-f\", \"--features\", dest=\"FEAT\", help=\"Features\", default=\"Variant-All\")\n",
    "# #         choices= [\"Variant-All\", \"Variant-1.0\", \"Variant-1.1\", \"Variant-2.0\", \"Variant-2.1\",\n",
    "# #                   \"Variant-2.2\", \"Variant-3.0\", \"Variant-3.1\", \"Variant-4.0\", \"Variant-4.1\"])\n",
    "\n",
    "########### Change this to according dir to download data #######################\n",
    "parser.add_argument(\"-i\", \"--input\", dest=\"IN\", default='HiggsCP_data/rhorho')\n",
    "\n",
    "parser.add_argument(\"--miniset\", dest=\"MINISET\", type=lambda s: s.lower() in ['true', 't', 'yes', '1'], default=False)\n",
    "parser.add_argument(\"--z_noise_fraction\", dest=\"Z_NOISE_FRACTION\", type=float, default=0.0)\n",
    "\n",
    "parser.add_argument(\"--delt_classes\", dest=\"DELT_CLASSES\", type=int, default=0,\n",
    "                    help='Maximal distance between predicted and valid class for event being considered as correctly classified')\n",
    "\n",
    "parser.add_argument(\"--unweighted\", dest=\"UNWEIGHTED\", type=lambda s: s.lower() in ['true', 't', 'yes', '1'], default=False)\n",
    "parser.add_argument(\"--reuse_weights\", dest=\"REUSE_WEIGHTS\", type=bool, default=False)\n",
    "parser.add_argument(\"--restrict_most_probable_angle\", dest=\"RESTRICT_MOST_PROBABLE_ANGLE\", type=bool, default=False)\n",
    "parser.add_argument(\"--force_download\", dest=\"FORCE_DOWNLOAD\", type=bool, default=False)\n",
    "parser.add_argument(\"--normalize_weights\", dest=\"NORMALIZE_WEIGHTS\", type=bool, default=False)\n",
    "\n",
    "\n",
    "parser.add_argument(\"--beta\",  type=float, dest=\"BETA\", help=\"value of beta parameter for polynomial smearing\", default=0.0)\n",
    "parser.add_argument(\"--pol_b\", type=float, dest=\"pol_b\", help=\"value of b parameter for polynomial smearing\", default=0.0)\n",
    "parser.add_argument(\"--pol_c\", type=float, dest=\"pol_c\", help=\"value of c parameter for polynomial smearing\", default=0.0)\n",
    "\n",
    "parser.add_argument(\"--w1\", dest=\"W1\")\n",
    "parser.add_argument(\"--w2\", dest=\"W2\")\n",
    "parser.add_argument(\"--f\", dest=\"FEAT\", default=\"Variant-All\")\n",
    "parser.add_argument(\"--plot_features\", dest=\"PLOT_FEATURES\", choices=[\"NO\", \"FILTER\", \"NO-FILTER\"], default=\"NO\")\n",
    "parser.add_argument(\"--training_method\", dest=\"TRAINING_METHOD\", choices=[\"soft_weights\", \"soft_c012s\",  \"soft_argmaxs\", \"regr_c012s\", \"regr_weights\", \"regr_argmaxs\"], default=\"soft_weights\")\n",
    "parser.add_argument(\"--hits_c012s\", dest=\"HITS_C012s\", choices=[\"hits_c0s\", \"hits_c1s\",  \"hits_c2s\"], default=\"hits_c0s\")\n",
    "\n",
    "######Change this to according type (rhorho, a1rho, a1a1)#######################\n",
    "parser.add_argument(\"-t\", \"--type\", dest=\"TYPE\", choices=types.keys(), default='nn_rhorho')\n",
    "\n",
    "parser.add_argument(\"-r\", \"--reprocess\", dest=\"REPRO\", type=bool, default=True)\n",
    "args, unknown = parser.parse_known_args()\n",
    "parser.add_argument(\"-bkgd\", \"--bkgdpath\", dest=\"BKGDPATH\", default= 'Ztt_dataset_Elz_rhorho/pythia.Z_115_135.%s.1M.*.outTUPLE_labFrame')\n",
    "args, unknown = parser.parse_known_args()\n"
   ]
  },
  {
   "cell_type": "markdown",
   "id": "ea597406",
   "metadata": {},
   "source": [
    "### Preprocessing signal samples from all the decaymodes"
   ]
  },
  {
   "cell_type": "code",
   "execution_count": 27,
   "id": "a341cf9d",
   "metadata": {},
   "outputs": [
    {
     "data": {
      "application/vnd.jupyter.widget-view+json": {
       "model_id": "aab9808becc945e08fc218dc843a5e0d",
       "version_major": 2,
       "version_minor": 0
      },
      "text/plain": [
       "  0%|          | 0/3 [00:00<?, ?it/s]"
      ]
     },
     "metadata": {},
     "output_type": "display_data"
    },
    {
     "name": "stdout",
     "output_type": "stream",
     "text": [
      "Loading data\n",
      "Read 1000000 events\n",
      "Events including background: 2000000\n",
      "SCALE!!\n"
     ]
    }
   ],
   "source": [
    "events={'nn_rhorho':'RhoRhoEvent', 'nn_a1rho':'A1RhoEvent', 'nn_a1a1':'A1A1Event'}\n",
    "if args.REPRO:\n",
    "    for decaymode in tqdm(decaymodes):\n",
    "        points = []\n",
    "        args.IN = 'HiggsCP_data/'+decaymode\n",
    "        args.TYPE = 'nn_'+decaymode\n",
    "        data, weights, argmaxs, perm, c012s, hits_argmaxs, hits_c012s = preprocess_data(args)\n",
    "        event = eval(events[args.TYPE])(data, args)\n",
    "        points.append(EventDatasets(event, weights, argmaxs, perm, c012s=c012s, hits_argmaxs=hits_argmaxs,  hits_c012s=hits_c012s, miniset=args.MINISET, unweighted=args.UNWEIGHTED))\n",
    "        pickle.dump(points,open(args.IN+'/events_wo_background.pk','wb'))\n",
    "        break # only precessing the rhorho data"
   ]
  },
  {
   "cell_type": "code",
   "execution_count": 7,
   "id": "006cd6ac",
   "metadata": {},
   "outputs": [],
   "source": [
    "# position={'nn_rhorho':[0,1,4,5,6,7], 'nn_a1rho':[0,1,2,3,5,6,7], 'nn_a1a1':[0,1,2,3,5,6,8,9]}"
   ]
  },
  {
   "cell_type": "markdown",
   "id": "13cee035",
   "metadata": {},
   "source": [
    "### Loading signal samples"
   ]
  },
  {
   "cell_type": "code",
   "execution_count": 26,
   "id": "f6a38fcd",
   "metadata": {},
   "outputs": [
    {
     "ename": "FileNotFoundError",
     "evalue": "[Errno 2] No such file or directory: 'HiggsCP_data/rhorho/events_wo_background.pk'",
     "output_type": "error",
     "traceback": [
      "\u001b[0;31m---------------------------------------------------------------------------\u001b[0m",
      "\u001b[0;31mFileNotFoundError\u001b[0m                         Traceback (most recent call last)",
      "\u001b[0;32m/var/folders/hw/2r8_w_bn37zdmgyry9lrr9t40000gn/T/ipykernel_33285/3833178897.py\u001b[0m in \u001b[0;36m<module>\u001b[0;34m\u001b[0m\n\u001b[0;32m----> 1\u001b[0;31m \u001b[0mpoints\u001b[0m\u001b[0;34m=\u001b[0m\u001b[0mpickle\u001b[0m\u001b[0;34m.\u001b[0m\u001b[0mload\u001b[0m\u001b[0;34m(\u001b[0m\u001b[0mopen\u001b[0m\u001b[0;34m(\u001b[0m\u001b[0margs\u001b[0m\u001b[0;34m.\u001b[0m\u001b[0mIN\u001b[0m\u001b[0;34m+\u001b[0m\u001b[0;34m'/events_wo_background.pk'\u001b[0m\u001b[0;34m,\u001b[0m\u001b[0;34m'rb'\u001b[0m\u001b[0;34m)\u001b[0m\u001b[0;34m)\u001b[0m\u001b[0;34m\u001b[0m\u001b[0;34m\u001b[0m\u001b[0m\n\u001b[0m",
      "\u001b[0;31mFileNotFoundError\u001b[0m: [Errno 2] No such file or directory: 'HiggsCP_data/rhorho/events_wo_background.pk'"
     ]
    }
   ],
   "source": [
    "points=pickle.load(open(args.IN+'/events_wo_background.pk','rb'))"
   ]
  },
  {
   "cell_type": "markdown",
   "id": "9e548b8b",
   "metadata": {},
   "source": [
    "### Training NN"
   ]
  },
  {
   "cell_type": "code",
   "execution_count": 6,
   "id": "47078747",
   "metadata": {},
   "outputs": [],
   "source": [
    "batch_size=512"
   ]
  },
  {
   "cell_type": "code",
   "execution_count": 7,
   "id": "39972924",
   "metadata": {},
   "outputs": [],
   "source": [
    "class MyDataset(Dataset):\n",
    "    def __init__(self, rhorho_data_mc,rhorho_data_true,rhorho_labels_mc,rhorho_labels_true):\n",
    "        self.rhorho_data_mc = torch.from_numpy(rhorho_data_mc).float().to(device)\n",
    "        self.rhorho_data_true = torch.from_numpy(rhorho_data_true).float().to(device)\n",
    "        \n",
    "        self.rhorho_labels_mc =torch.from_numpy(rhorho_labels_mc).float().to(device)\n",
    "        self.rhorho_labels_true =torch.from_numpy(rhorho_labels_true).float().to(device)\n",
    "    def __getitem__(self, index):\n",
    "        return self.rhorho_data_mc[index],self.rhorho_data_true[index],self.rhorho_labels_mc[index],self.rhorho_labels_true[index]\n",
    "    def __len__(self):\n",
    "        return min(len(self.rhorho_labels_mc),len(self.rhorho_labels_true))"
   ]
  },
  {
   "cell_type": "code",
   "execution_count": 8,
   "id": "dafcb9d3",
   "metadata": {},
   "outputs": [],
   "source": [
    "particle_idx=0\n",
    "\n",
    "mc_train_idx=np.random.choice(np.arange(points[particle_idx].train.x.shape[0]),int(points[particle_idx].train.x.shape[0]*0.5),replace=False)\n",
    "true_train_idx=list(set(np.arange(points[particle_idx].train.x.shape[0]))-set(mc_train_idx))\n",
    "\n",
    "mc_valid_idx=np.random.choice(np.arange(points[particle_idx].valid.x.shape[0]),int(points[particle_idx].valid.x.shape[0]*0.5),replace=False)\n",
    "true_valid_idx=list(set(np.arange(points[particle_idx].valid.x.shape[0]))-set(mc_train_idx))\n",
    "\n",
    "mc_test_idx=np.random.choice(np.arange(points[particle_idx].test.x.shape[0]),int(points[particle_idx].test.x.shape[0]*0.5),replace=False)\n",
    "true_test_idx=list(set(np.arange(points[particle_idx].test.x.shape[0]))-set(mc_train_idx))"
   ]
  },
  {
   "cell_type": "code",
   "execution_count": 9,
   "id": "5037f942",
   "metadata": {},
   "outputs": [],
   "source": [
    "uncertainty=0.0\n",
    "\n",
    "train_datasets = MyDataset(points[particle_idx].train.x[mc_train_idx], points[particle_idx].train.x[true_train_idx]+uncertainty*np.random.normal(0,1,size=points[particle_idx].train.x[true_train_idx].shape),\n",
    "                          points[particle_idx].train.weights[mc_train_idx],points[particle_idx].train.weights[true_train_idx])\n",
    "train_loader = DataLoader(dataset = train_datasets,batch_size = batch_size,shuffle = True)\n",
    "\n",
    "\n",
    "valid_datasets = MyDataset(points[particle_idx].valid.x[mc_valid_idx], points[particle_idx].valid.x[true_valid_idx]+uncertainty*np.random.normal(0,1,size=points[particle_idx].valid.x[true_valid_idx].shape),\n",
    "                          points[particle_idx].valid.weights[mc_valid_idx],points[particle_idx].valid.weights[true_valid_idx])\n",
    "valid_loader = DataLoader(dataset = valid_datasets,batch_size = batch_size,shuffle = True)\n",
    "\n",
    "\n",
    "test_datasets = MyDataset(points[particle_idx].test.x[mc_test_idx], points[particle_idx].test.x[true_test_idx]+uncertainty*np.random.normal(0,1,size=points[particle_idx].test.x[true_test_idx].shape),\n",
    "                          points[particle_idx].test.weights[mc_test_idx],points[particle_idx].test.weights[true_test_idx])\n",
    "test_loader = DataLoader(dataset = test_datasets,batch_size = batch_size,shuffle = True)"
   ]
  },
  {
   "cell_type": "code",
   "execution_count": 10,
   "id": "02ff007f",
   "metadata": {},
   "outputs": [],
   "source": [
    "class NeuralNetwork(nn.Module):\n",
    "    def __init__(self, num_features, num_classes, num_layers=1, size=100, lr=1e-3, drop_prob=0, inplace=False, \n",
    "                 tloss=\"regr_weights\", activation='linear', input_noise=0.0, optimizer=\"AdamOptimizer\"):\n",
    "        super(NeuralNetwork, self).__init__()\n",
    "        self.linear1 = nn.Linear(num_features,size,bias=False)\n",
    "        layers = []\n",
    "        for i in range(num_layers):\n",
    "            layers.extend([nn.Linear(size,size,bias=False),\n",
    "                           nn.BatchNorm1d(size),\n",
    "                           nn.ReLU(),\n",
    "                           nn.Dropout(drop_prob, inplace)\n",
    "                          ])\n",
    "        self.linear_relu_stack = nn.Sequential(*layers)\n",
    "        self.linear2 = nn.Linear(size,num_classes,bias=False)\n",
    "        self.linear3 = nn.Linear(size,2,bias=False)\n",
    "    def forward(self, x):\n",
    "        x = self.linear1(x)\n",
    "        x = self.linear_relu_stack(x)\n",
    "        out = self.linear2(x)\n",
    "        return out"
   ]
  },
  {
   "cell_type": "code",
   "execution_count": 11,
   "id": "1c7064d7",
   "metadata": {},
   "outputs": [],
   "source": [
    "model = NeuralNetwork(num_features=points[particle_idx].train.x.shape[1], num_classes=args.NUM_CLASSES,num_layers=args.LAYERS,drop_prob=0).to(device)\n",
    "opt_g=torch.optim.Adam(model.parameters(),lr=1e-3)\n",
    "criterion=nn.CrossEntropyLoss()\n",
    "early_stopping = EarlyStopping(patience=10, verbose=True,path='model/best_model.pt')"
   ]
  },
  {
   "cell_type": "code",
   "execution_count": 12,
   "id": "8691c833",
   "metadata": {
    "scrolled": true
   },
   "outputs": [
    {
     "name": "stdout",
     "output_type": "stream",
     "text": [
      " training loss: 2.218 \t acc: 0.239 \t\n",
      "\n",
      "  acc: 0.378 \t \n",
      "Validation loss decreased (inf --> -0.377919).  Saving model ...\n",
      " training loss: 1.710 \t acc: 0.360 \t\n",
      "\n",
      "  acc: 0.437 \t \n",
      "Validation loss decreased (-0.377919 --> -0.436539).  Saving model ...\n",
      " training loss: 1.583 \t acc: 0.393 \t\n",
      "\n",
      "  acc: 0.475 \t \n",
      "Validation loss decreased (-0.436539 --> -0.474815).  Saving model ...\n",
      " training loss: 1.506 \t acc: 0.416 \t\n",
      "\n",
      "  acc: 0.508 \t \n",
      "Validation loss decreased (-0.474815 --> -0.508129).  Saving model ...\n",
      " training loss: 1.461 \t acc: 0.429 \t\n",
      "\n",
      "  acc: 0.535 \t \n",
      "Validation loss decreased (-0.508129 --> -0.534709).  Saving model ...\n",
      " training loss: 1.420 \t acc: 0.441 \t\n",
      "\n",
      "  acc: 0.540 \t \n",
      "Validation loss decreased (-0.534709 --> -0.539910).  Saving model ...\n",
      " training loss: 1.397 \t acc: 0.450 \t\n",
      "\n",
      "  acc: 0.539 \t \n",
      "EarlyStopping counter: 1 out of 10\n",
      " training loss: 1.374 \t acc: 0.456 \t\n",
      "\n",
      "  acc: 0.566 \t \n",
      "Validation loss decreased (-0.539910 --> -0.566072).  Saving model ...\n",
      " training loss: 1.347 \t acc: 0.466 \t\n",
      "\n",
      "  acc: 0.564 \t \n",
      "EarlyStopping counter: 1 out of 10\n",
      " training loss: 1.334 \t acc: 0.469 \t\n",
      "\n",
      "  acc: 0.568 \t \n",
      "Validation loss decreased (-0.566072 --> -0.567506).  Saving model ...\n",
      " training loss: 1.321 \t acc: 0.474 \t\n",
      "\n",
      "  acc: 0.573 \t \n",
      "Validation loss decreased (-0.567506 --> -0.572687).  Saving model ...\n",
      " training loss: 1.300 \t acc: 0.482 \t\n",
      "\n",
      "  acc: 0.590 \t \n",
      "Validation loss decreased (-0.572687 --> -0.589842).  Saving model ...\n",
      " training loss: 1.290 \t acc: 0.485 \t\n",
      "\n",
      "  acc: 0.608 \t \n",
      "Validation loss decreased (-0.589842 --> -0.607735).  Saving model ...\n",
      " training loss: 1.276 \t acc: 0.489 \t\n",
      "\n",
      "  acc: 0.596 \t \n",
      "EarlyStopping counter: 1 out of 10\n",
      " training loss: 1.269 \t acc: 0.491 \t\n",
      "\n",
      "  acc: 0.603 \t \n",
      "EarlyStopping counter: 2 out of 10\n",
      " training loss: 1.259 \t acc: 0.494 \t\n",
      "\n",
      "  acc: 0.615 \t \n",
      "Validation loss decreased (-0.607735 --> -0.615406).  Saving model ...\n",
      " training loss: 1.249 \t acc: 0.498 \t\n",
      "\n",
      "  acc: 0.610 \t \n",
      "EarlyStopping counter: 1 out of 10\n",
      " training loss: 1.241 \t acc: 0.500 \t\n",
      "\n",
      "  acc: 0.611 \t \n",
      "EarlyStopping counter: 2 out of 10\n",
      " training loss: 1.238 \t acc: 0.502 \t\n",
      "\n",
      "  acc: 0.621 \t \n",
      "Validation loss decreased (-0.615406 --> -0.621384).  Saving model ...\n",
      " training loss: 1.220 \t acc: 0.507 \t\n",
      "\n",
      "  acc: 0.614 \t \n",
      "EarlyStopping counter: 1 out of 10\n",
      " training loss: 1.218 \t acc: 0.508 \t\n",
      "\n",
      "  acc: 0.612 \t \n",
      "EarlyStopping counter: 2 out of 10\n",
      " training loss: 1.213 \t acc: 0.509 \t\n",
      "\n",
      "  acc: 0.623 \t \n",
      "Validation loss decreased (-0.621384 --> -0.622679).  Saving model ...\n",
      " training loss: 1.206 \t acc: 0.512 \t\n",
      "\n",
      "  acc: 0.626 \t \n",
      "Validation loss decreased (-0.622679 --> -0.626225).  Saving model ...\n",
      " training loss: 1.193 \t acc: 0.516 \t\n",
      "\n",
      "  acc: 0.617 \t \n",
      "EarlyStopping counter: 1 out of 10\n",
      " training loss: 1.194 \t acc: 0.517 \t\n",
      "\n",
      "  acc: 0.636 \t \n",
      "Validation loss decreased (-0.626225 --> -0.636009).  Saving model ...\n",
      " training loss: 1.189 \t acc: 0.518 \t\n",
      "\n",
      "  acc: 0.630 \t \n",
      "EarlyStopping counter: 1 out of 10\n",
      " training loss: 1.186 \t acc: 0.519 \t\n",
      "\n",
      "  acc: 0.621 \t \n",
      "EarlyStopping counter: 2 out of 10\n",
      " training loss: 1.178 \t acc: 0.521 \t\n",
      "\n",
      "  acc: 0.634 \t \n",
      "EarlyStopping counter: 3 out of 10\n",
      " training loss: 1.172 \t acc: 0.526 \t\n",
      "\n",
      "  acc: 0.632 \t \n",
      "EarlyStopping counter: 4 out of 10\n",
      " training loss: 1.165 \t acc: 0.527 \t\n",
      "\n",
      "  acc: 0.649 \t \n",
      "Validation loss decreased (-0.636009 --> -0.649179).  Saving model ...\n",
      " training loss: 1.164 \t acc: 0.528 \t\n",
      "\n",
      "  acc: 0.637 \t \n",
      "EarlyStopping counter: 1 out of 10\n",
      " training loss: 1.156 \t acc: 0.530 \t\n",
      "\n",
      "  acc: 0.634 \t \n",
      "EarlyStopping counter: 2 out of 10\n",
      " training loss: 1.155 \t acc: 0.531 \t\n",
      "\n",
      "  acc: 0.643 \t \n",
      "EarlyStopping counter: 3 out of 10\n",
      " training loss: 1.148 \t acc: 0.533 \t\n",
      "\n",
      "  acc: 0.649 \t \n",
      "Validation loss decreased (-0.649179 --> -0.649378).  Saving model ...\n",
      " training loss: 1.143 \t acc: 0.534 \t\n",
      "\n",
      "  acc: 0.650 \t \n",
      "Validation loss decreased (-0.649378 --> -0.650076).  Saving model ...\n",
      " training loss: 1.140 \t acc: 0.536 \t\n",
      "\n",
      "  acc: 0.639 \t \n",
      "EarlyStopping counter: 1 out of 10\n",
      " training loss: 1.135 \t acc: 0.538 \t\n",
      "\n",
      "  acc: 0.643 \t \n",
      "EarlyStopping counter: 2 out of 10\n",
      " training loss: 1.136 \t acc: 0.537 \t\n",
      "\n",
      "  acc: 0.654 \t \n",
      "Validation loss decreased (-0.650076 --> -0.654459).  Saving model ...\n",
      " training loss: 1.127 \t acc: 0.541 \t\n",
      "\n",
      "  acc: 0.642 \t \n",
      "EarlyStopping counter: 1 out of 10\n",
      " training loss: 1.124 \t acc: 0.541 \t\n",
      "\n",
      "  acc: 0.656 \t \n",
      "Validation loss decreased (-0.654459 --> -0.656113).  Saving model ...\n",
      " training loss: 1.120 \t acc: 0.544 \t\n",
      "\n",
      "  acc: 0.656 \t \n",
      "EarlyStopping counter: 1 out of 10\n",
      " training loss: 1.121 \t acc: 0.543 \t\n",
      "\n",
      "  acc: 0.656 \t \n",
      "EarlyStopping counter: 2 out of 10\n",
      " training loss: 1.113 \t acc: 0.545 \t\n",
      "\n",
      "  acc: 0.650 \t \n",
      "EarlyStopping counter: 3 out of 10\n",
      " training loss: 1.111 \t acc: 0.547 \t\n",
      "\n",
      "  acc: 0.649 \t \n",
      "EarlyStopping counter: 4 out of 10\n",
      " training loss: 1.107 \t acc: 0.548 \t\n",
      "\n",
      "  acc: 0.649 \t \n",
      "EarlyStopping counter: 5 out of 10\n",
      " training loss: 1.102 \t acc: 0.550 \t\n",
      "\n",
      "  acc: 0.660 \t \n",
      "Validation loss decreased (-0.656113 --> -0.660018).  Saving model ...\n",
      " training loss: 1.104 \t acc: 0.549 \t\n",
      "\n",
      "  acc: 0.658 \t \n",
      "EarlyStopping counter: 1 out of 10\n",
      " training loss: 1.100 \t acc: 0.552 \t\n",
      "\n",
      "  acc: 0.659 \t \n",
      "EarlyStopping counter: 2 out of 10\n",
      " training loss: 1.096 \t acc: 0.552 \t\n",
      "\n",
      "  acc: 0.658 \t \n",
      "EarlyStopping counter: 3 out of 10\n",
      " training loss: 1.093 \t acc: 0.553 \t\n",
      "\n",
      "  acc: 0.664 \t \n",
      "Validation loss decreased (-0.660018 --> -0.663804).  Saving model ...\n",
      " training loss: 1.091 \t acc: 0.553 \t\n",
      "\n",
      "  acc: 0.669 \t \n",
      "Validation loss decreased (-0.663804 --> -0.668925).  Saving model ...\n",
      " training loss: 1.088 \t acc: 0.555 \t\n",
      "\n",
      "  acc: 0.669 \t \n",
      "EarlyStopping counter: 1 out of 10\n",
      " training loss: 1.088 \t acc: 0.556 \t\n",
      "\n",
      "  acc: 0.671 \t \n",
      "Validation loss decreased (-0.668925 --> -0.671057).  Saving model ...\n",
      " training loss: 1.082 \t acc: 0.557 \t\n",
      "\n",
      "  acc: 0.665 \t \n",
      "EarlyStopping counter: 1 out of 10\n",
      " training loss: 1.084 \t acc: 0.557 \t\n",
      "\n",
      "  acc: 0.664 \t \n",
      "EarlyStopping counter: 2 out of 10\n",
      " training loss: 1.081 \t acc: 0.558 \t\n",
      "\n",
      "  acc: 0.666 \t \n",
      "EarlyStopping counter: 3 out of 10\n",
      " training loss: 1.081 \t acc: 0.559 \t\n",
      "\n",
      "  acc: 0.660 \t \n",
      "EarlyStopping counter: 4 out of 10\n",
      " training loss: 1.077 \t acc: 0.560 \t\n",
      "\n",
      "  acc: 0.667 \t \n",
      "EarlyStopping counter: 5 out of 10\n",
      " training loss: 1.072 \t acc: 0.562 \t\n",
      "\n",
      "  acc: 0.675 \t \n",
      "Validation loss decreased (-0.671057 --> -0.675321).  Saving model ...\n",
      " training loss: 1.071 \t acc: 0.562 \t\n",
      "\n",
      "  acc: 0.670 \t \n",
      "EarlyStopping counter: 1 out of 10\n",
      " training loss: 1.072 \t acc: 0.561 \t\n",
      "\n",
      "  acc: 0.666 \t \n",
      "EarlyStopping counter: 2 out of 10\n",
      " training loss: 1.067 \t acc: 0.564 \t\n",
      "\n",
      "  acc: 0.672 \t \n",
      "EarlyStopping counter: 3 out of 10\n",
      " training loss: 1.064 \t acc: 0.564 \t\n",
      "\n",
      "  acc: 0.676 \t \n",
      "Validation loss decreased (-0.675321 --> -0.675859).  Saving model ...\n",
      " training loss: 1.062 \t acc: 0.564 \t\n",
      "\n",
      "  acc: 0.678 \t \n",
      "Validation loss decreased (-0.675859 --> -0.678011).  Saving model ...\n",
      " training loss: 1.061 \t acc: 0.566 \t\n",
      "\n",
      "  acc: 0.675 \t \n",
      "EarlyStopping counter: 1 out of 10\n",
      " training loss: 1.058 \t acc: 0.565 \t\n",
      "\n",
      "  acc: 0.669 \t \n",
      "EarlyStopping counter: 2 out of 10\n",
      " training loss: 1.056 \t acc: 0.566 \t\n",
      "\n",
      "  acc: 0.668 \t \n",
      "EarlyStopping counter: 3 out of 10\n",
      " training loss: 1.055 \t acc: 0.568 \t\n",
      "\n",
      "  acc: 0.673 \t \n",
      "EarlyStopping counter: 4 out of 10\n",
      " training loss: 1.053 \t acc: 0.569 \t\n",
      "\n",
      "  acc: 0.673 \t \n",
      "EarlyStopping counter: 5 out of 10\n",
      " training loss: 1.053 \t acc: 0.569 \t\n",
      "\n",
      "  acc: 0.669 \t \n",
      "EarlyStopping counter: 6 out of 10\n",
      " training loss: 1.048 \t acc: 0.570 \t\n",
      "\n",
      "  acc: 0.668 \t \n",
      "EarlyStopping counter: 7 out of 10\n",
      " training loss: 1.045 \t acc: 0.571 \t\n",
      "\n",
      "  acc: 0.680 \t \n",
      "Validation loss decreased (-0.678011 --> -0.679943).  Saving model ...\n",
      " training loss: 1.043 \t acc: 0.573 \t\n",
      "\n",
      "  acc: 0.679 \t \n",
      "EarlyStopping counter: 1 out of 10\n",
      " training loss: 1.043 \t acc: 0.572 \t\n",
      "\n",
      "  acc: 0.678 \t \n",
      "EarlyStopping counter: 2 out of 10\n",
      " training loss: 1.039 \t acc: 0.574 \t\n",
      "\n",
      "  acc: 0.684 \t \n",
      "Validation loss decreased (-0.679943 --> -0.684028).  Saving model ...\n",
      " training loss: 1.039 \t acc: 0.574 \t\n",
      "\n",
      "  acc: 0.681 \t \n",
      "EarlyStopping counter: 1 out of 10\n",
      " training loss: 1.040 \t acc: 0.573 \t\n",
      "\n",
      "  acc: 0.677 \t \n",
      "EarlyStopping counter: 2 out of 10\n",
      " training loss: 1.034 \t acc: 0.575 \t\n",
      "\n",
      "  acc: 0.682 \t \n",
      "EarlyStopping counter: 3 out of 10\n",
      " training loss: 1.034 \t acc: 0.576 \t\n",
      "\n",
      "  acc: 0.681 \t \n",
      "EarlyStopping counter: 4 out of 10\n",
      " training loss: 1.035 \t acc: 0.575 \t\n",
      "\n",
      "  acc: 0.678 \t \n",
      "EarlyStopping counter: 5 out of 10\n"
     ]
    },
    {
     "name": "stdout",
     "output_type": "stream",
     "text": [
      " training loss: 1.038 \t acc: 0.574 \t\n",
      "\n",
      "  acc: 0.674 \t \n",
      "EarlyStopping counter: 6 out of 10\n",
      " training loss: 1.027 \t acc: 0.578 \t\n",
      "\n",
      "  acc: 0.679 \t \n",
      "EarlyStopping counter: 7 out of 10\n",
      " training loss: 1.030 \t acc: 0.577 \t\n",
      "\n",
      "  acc: 0.678 \t \n",
      "EarlyStopping counter: 8 out of 10\n",
      " training loss: 1.027 \t acc: 0.578 \t\n",
      "\n",
      "  acc: 0.687 \t \n",
      "Validation loss decreased (-0.684028 --> -0.687057).  Saving model ...\n",
      " training loss: 1.024 \t acc: 0.579 \t\n",
      "\n",
      "  acc: 0.677 \t \n",
      "EarlyStopping counter: 1 out of 10\n",
      " training loss: 1.023 \t acc: 0.580 \t\n",
      "\n",
      "  acc: 0.682 \t \n",
      "EarlyStopping counter: 2 out of 10\n",
      " training loss: 1.023 \t acc: 0.580 \t\n",
      "\n",
      "  acc: 0.688 \t \n",
      "Validation loss decreased (-0.687057 --> -0.688372).  Saving model ...\n",
      " training loss: 1.022 \t acc: 0.580 \t\n",
      "\n",
      "  acc: 0.687 \t \n",
      "EarlyStopping counter: 1 out of 10\n",
      " training loss: 1.019 \t acc: 0.581 \t\n",
      "\n",
      "  acc: 0.687 \t \n",
      "EarlyStopping counter: 2 out of 10\n",
      " training loss: 1.016 \t acc: 0.582 \t\n",
      "\n",
      "  acc: 0.673 \t \n",
      "EarlyStopping counter: 3 out of 10\n",
      " training loss: 1.017 \t acc: 0.582 \t\n",
      "\n",
      "  acc: 0.685 \t \n",
      "EarlyStopping counter: 4 out of 10\n",
      " training loss: 1.017 \t acc: 0.582 \t\n",
      "\n",
      "  acc: 0.684 \t \n",
      "EarlyStopping counter: 5 out of 10\n",
      " training loss: 1.014 \t acc: 0.583 \t\n",
      "\n",
      "  acc: 0.683 \t \n",
      "EarlyStopping counter: 6 out of 10\n",
      " training loss: 1.012 \t acc: 0.584 \t\n",
      "\n",
      "  acc: 0.686 \t \n",
      "EarlyStopping counter: 7 out of 10\n",
      " training loss: 1.011 \t acc: 0.584 \t\n",
      "\n",
      "  acc: 0.687 \t \n",
      "EarlyStopping counter: 8 out of 10\n",
      " training loss: 1.010 \t acc: 0.585 \t\n",
      "\n",
      "  acc: 0.688 \t \n",
      "EarlyStopping counter: 9 out of 10\n",
      " training loss: 1.010 \t acc: 0.585 \t\n",
      "\n",
      "  acc: 0.683 \t \n",
      "EarlyStopping counter: 10 out of 10\n",
      "Early stopping\n"
     ]
    }
   ],
   "source": [
    "epoch=200\n",
    "for i in range(epoch):\n",
    "    model.train()\n",
    "    train_loss,sample_numbers,acc,total_samples,bg_acc=0,0,0,0,0\n",
    "    for batch_idx, (rhorho_s,rhorho_t,label_s,_) in enumerate(train_loader):\n",
    "        \n",
    "        opt_g.zero_grad()\n",
    "        rhorho_s=rhorho_s[label_s.sum(axis=1)!=0]\n",
    "        label_s=label_s[label_s.sum(axis=1)!=0]\n",
    "        outputs=model(rhorho_s)\n",
    "        if isinstance(criterion,nn.CrossEntropyLoss):\n",
    "            loss=criterion(outputs,torch.argmax(label_s,axis=1))\n",
    "            _, predictions = torch.max(outputs, 1)\n",
    "            acc+=(predictions==torch.argmax(label_s,axis=1)).sum().item()\n",
    "        else:\n",
    "            loss=criterion(outputs,label_s)\n",
    "        loss.backward()\n",
    "        train_loss+=loss.item()*len(rhorho_s)\n",
    "        sample_numbers+=len(rhorho_s)\n",
    "        opt_g.step()\n",
    "        print('\\r training loss: %.3f \\t acc: %.3f \\t' %(train_loss/sample_numbers,acc/sample_numbers),end='')\n",
    "    print()\n",
    "    vaild_acc,vaild_numbers,total_samples,bg_acc=0,0,0,0\n",
    "    model.eval()\n",
    "    with torch.no_grad():\n",
    "        for batch_idx, (rhorho_s,rhorho_t,label_s,label_t) in enumerate(valid_loader):\n",
    "            total_samples+=len(rhorho_t)\n",
    "            rhorho_t= rhorho_t[label_t.sum(axis=1)!=0]\n",
    "            label_t = label_t[label_t.sum(axis=1)!=0]\n",
    "            outputs=model(rhorho_t)\n",
    "            _, predictions = torch.max(outputs, 1)\n",
    "            vaild_acc+=(predictions==torch.argmax(label_t,axis=1)).sum().item()\n",
    "            vaild_numbers+=len(rhorho_t)\n",
    "    print()\n",
    "    print('\\r  acc: %.3f \\t ' %(vaild_acc/vaild_numbers),end='')\n",
    "    print()\n",
    "    early_stopping(-vaild_acc/vaild_numbers,model)\n",
    "    if early_stopping.early_stop:\n",
    "        print(\"Early stopping\")\n",
    "        break;\n",
    "# test_loss=0\n",
    "# with torch.no_grad():\n",
    "#     for inputs, label in test_loader:\n",
    "#         outputs=model(inputs)\n",
    "#         test_loss+=mse_loss(outputs,label).item()*len(inputs)\n",
    "#     print('test loss: %f' %(test_loss/len(test_loader.dataset.tensors[0])))"
   ]
  },
  {
   "cell_type": "markdown",
   "id": "ab8eb181",
   "metadata": {},
   "source": [
    "### Converting bkgd raw data into npy"
   ]
  },
  {
   "cell_type": "code",
   "execution_count": 15,
   "id": "4a605ea5",
   "metadata": {
    "scrolled": false
   },
   "outputs": [
    {
     "data": {
      "application/vnd.jupyter.widget-view+json": {
       "model_id": "e4a9d45cd5b741029ffd59a2663989db",
       "version_major": 2,
       "version_minor": 0
      },
      "text/plain": [
       "0it [00:00, ?it/s]"
      ]
     },
     "metadata": {},
     "output_type": "display_data"
    },
    {
     "ename": "ValueError",
     "evalue": "need at least one array to concatenate",
     "output_type": "error",
     "traceback": [
      "\u001b[0;31m---------------------------------------------------------------------------\u001b[0m",
      "\u001b[0;31mValueError\u001b[0m                                Traceback (most recent call last)",
      "\u001b[0;32m/var/folders/hw/2r8_w_bn37zdmgyry9lrr9t40000gn/T/ipykernel_22374/1078334757.py\u001b[0m in \u001b[0;36m<module>\u001b[0;34m\u001b[0m\n\u001b[0;32m----> 1\u001b[0;31m \u001b[0mconvert_bkgd_raw\u001b[0m\u001b[0;34m(\u001b[0m\u001b[0margs\u001b[0m\u001b[0;34m.\u001b[0m\u001b[0mBKGDPATH\u001b[0m\u001b[0;34m)\u001b[0m\u001b[0;34m\u001b[0m\u001b[0;34m\u001b[0m\u001b[0m\n\u001b[0m",
      "\u001b[0;32m~/4610/HiggsCP_DNN_modified/src_py/process_background.py\u001b[0m in \u001b[0;36mconvert_bkgd_raw\u001b[0;34m(bkgd_raw_path)\u001b[0m\n\u001b[1;32m     44\u001b[0m             \u001b[0mdata\u001b[0m\u001b[0;34m,\u001b[0m \u001b[0mweights\u001b[0m \u001b[0;34m=\u001b[0m \u001b[0mread_raw_root\u001b[0m\u001b[0;34m(\u001b[0m\u001b[0mfile_path\u001b[0m\u001b[0;34m,\u001b[0m \u001b[0mdecaymode\u001b[0m\u001b[0;34m,\u001b[0m \u001b[0mnum_features\u001b[0m\u001b[0;34m)\u001b[0m\u001b[0;34m\u001b[0m\u001b[0;34m\u001b[0m\u001b[0m\n\u001b[1;32m     45\u001b[0m             \u001b[0mall_data\u001b[0m \u001b[0;34m+=\u001b[0m \u001b[0;34m[\u001b[0m\u001b[0mdata\u001b[0m\u001b[0;34m]\u001b[0m\u001b[0;34m\u001b[0m\u001b[0;34m\u001b[0m\u001b[0m\n\u001b[0;32m---> 46\u001b[0;31m         \u001b[0mall_data\u001b[0m \u001b[0;34m=\u001b[0m \u001b[0mnp\u001b[0m\u001b[0;34m.\u001b[0m\u001b[0mconcatenate\u001b[0m\u001b[0;34m(\u001b[0m\u001b[0mall_data\u001b[0m\u001b[0;34m)\u001b[0m\u001b[0;34m\u001b[0m\u001b[0;34m\u001b[0m\u001b[0m\n\u001b[0m\u001b[1;32m     47\u001b[0m         \u001b[0mnp\u001b[0m\u001b[0;34m.\u001b[0m\u001b[0msave\u001b[0m\u001b[0;34m(\u001b[0m\u001b[0;34m'HiggsCP_data/'\u001b[0m\u001b[0;34m+\u001b[0m\u001b[0mdecaymode\u001b[0m\u001b[0;34m+\u001b[0m\u001b[0;34m'/'\u001b[0m\u001b[0;34m+\u001b[0m\u001b[0mdecaymode\u001b[0m\u001b[0;34m+\u001b[0m\u001b[0;34m'Z_raw.data.npy'\u001b[0m\u001b[0;34m,\u001b[0m\u001b[0mall_data\u001b[0m\u001b[0;34m)\u001b[0m\u001b[0;34m\u001b[0m\u001b[0;34m\u001b[0m\u001b[0m\n\u001b[1;32m     48\u001b[0m     \u001b[0mprint\u001b[0m\u001b[0;34m(\u001b[0m\u001b[0;34m'Ztt raw data already converted into npy file :)'\u001b[0m\u001b[0;34m)\u001b[0m\u001b[0;34m\u001b[0m\u001b[0;34m\u001b[0m\u001b[0m\n",
      "\u001b[0;32m<__array_function__ internals>\u001b[0m in \u001b[0;36mconcatenate\u001b[0;34m(*args, **kwargs)\u001b[0m\n",
      "\u001b[0;31mValueError\u001b[0m: need at least one array to concatenate"
     ]
    }
   ],
   "source": [
    "convert_bkgd_raw(args.BKGDPATH)"
   ]
  },
  {
   "cell_type": "markdown",
   "id": "e1555fd9",
   "metadata": {},
   "source": [
    "### Preprocessing singal and bkgd from all the decaymodes"
   ]
  },
  {
   "cell_type": "code",
   "execution_count": 4,
   "id": "f30480ce",
   "metadata": {},
   "outputs": [
    {
     "data": {
      "application/vnd.jupyter.widget-view+json": {
       "model_id": "652442a8834c47c7a21690ce54ac7ad5",
       "version_major": 2,
       "version_minor": 0
      },
      "text/plain": [
       "  0%|          | 0/3 [00:00<?, ?it/s]"
      ]
     },
     "metadata": {},
     "output_type": "display_data"
    },
    {
     "name": "stdout",
     "output_type": "stream",
     "text": [
      "Loading data\n",
      "Read 1000000 events\n",
      "Events including background: 2000000\n",
      "SCALE!!\n"
     ]
    }
   ],
   "source": [
    "events={'nn_rhorho':'RhoRhoEvent', 'nn_a1rho':'A1RhoEvent', 'nn_a1a1':'A1A1Event'}\n",
    "if args.REPRO:\n",
    "    for decaymode in tqdm(decaymodes):\n",
    "        points = []\n",
    "        args.Z_NOISE_FRACTION = 1\n",
    "        args.IN = 'HiggsCP_data/'+decaymode\n",
    "        args.TYPE = 'nn_'+decaymode\n",
    "        data, weights, argmaxs, perm, c012s, hits_argmaxs, hits_c012s = preprocess_data(args)\n",
    "        event = eval(events[args.TYPE])(data, args)\n",
    "        points.append(EventDatasets(event, weights, argmaxs, perm, c012s=c012s, hits_argmaxs=hits_argmaxs,  hits_c012s=hits_c012s, miniset=args.MINISET, unweighted=args.UNWEIGHTED))\n",
    "        pickle.dump(points,open(args.IN+'/events_w_background.pk','wb'))\n",
    "        break"
   ]
  },
  {
   "cell_type": "markdown",
   "id": "46e77b68",
   "metadata": {},
   "source": [
    "### Loading bkgd samples"
   ]
  },
  {
   "cell_type": "code",
   "execution_count": 14,
   "id": "60f5aa88",
   "metadata": {},
   "outputs": [],
   "source": [
    "background_points=pickle.load(open(args.IN+'/events_w_background.pk','rb'))"
   ]
  },
  {
   "cell_type": "code",
   "execution_count": 15,
   "id": "ea18550a",
   "metadata": {},
   "outputs": [],
   "source": [
    "particle_idx = 0 # 0 for rhorho\n",
    "background=[]\n",
    "background.append(background_points[particle_idx].train.x[background_points[particle_idx].train.weights.sum(axis=1)==0])\n",
    "background.append(background_points[particle_idx].valid.x[background_points[particle_idx].valid.weights.sum(axis=1)==0])\n",
    "background.append(background_points[particle_idx].test.x[background_points[particle_idx].test.weights.sum(axis=1)==0])"
   ]
  },
  {
   "cell_type": "code",
   "execution_count": 16,
   "id": "e1bc2862",
   "metadata": {},
   "outputs": [
    {
     "name": "stdout",
     "output_type": "stream",
     "text": [
      "[[ 0.06377734 -1.19193101  0.51962589 ... -2.04750759 -0.49568333\n",
      "  -0.49547988]\n",
      " [-1.1291517  -0.61414484  0.02827436 ... -2.01464698  0.96492549\n",
      "   0.96502808]\n",
      " [-0.18976795 -1.23022846  0.70567811 ... -0.55906404  0.27043663\n",
      "   0.27015867]\n",
      " ...\n",
      " [-0.05345509  1.36663701  0.11321894 ...  0.24807744  1.18690387\n",
      "   1.18690096]\n",
      " [ 0.25821256  1.49242693 -0.31862981 ... -0.22440715  0.08298841\n",
      "   0.08294199]\n",
      " [ 0.52785893 -0.06059081  1.01413802 ...  1.08433862  1.14442501\n",
      "   1.14442496]]\n"
     ]
    }
   ],
   "source": [
    "background=np.concatenate(background)\n",
    "print(background)"
   ]
  },
  {
   "cell_type": "code",
   "execution_count": 17,
   "id": "99964c18",
   "metadata": {},
   "outputs": [],
   "source": [
    "background=torch.tensor(background).float().to(device)"
   ]
  },
  {
   "cell_type": "markdown",
   "id": "9d3885c6",
   "metadata": {},
   "source": [
    "### Testing NN w/ bkgd only"
   ]
  },
  {
   "cell_type": "code",
   "execution_count": 18,
   "id": "78c5c4a5",
   "metadata": {
    "scrolled": true
   },
   "outputs": [
    {
     "data": {
      "application/vnd.jupyter.widget-view+json": {
       "model_id": "a084306c5c0e4e03b67b6f6764affafc",
       "version_major": 2,
       "version_minor": 0
      },
      "text/plain": [
       "  0%|          | 0/782 [00:00<?, ?it/s]"
      ]
     },
     "metadata": {},
     "output_type": "display_data"
    }
   ],
   "source": [
    "model.load_state_dict(torch.load('model/best_model.pt'))\n",
    "model.eval()\n",
    "with torch.no_grad():\n",
    "    outputs=[]\n",
    "    for i in tqdm(range(0, 400000,batch_size)):\n",
    "        outputs.append(model(background[i:i+batch_size]).detach().cpu())\n",
    "outputs=torch.cat(outputs)\n",
    "\n",
    "bg_outputs=torch.argmax(torch.softmax(outputs,axis=1),axis=1).numpy()\n",
    "bg_labels_counts=np.unique(bg_outputs,return_counts=True)[1]"
   ]
  },
  {
   "cell_type": "code",
   "execution_count": 19,
   "id": "acf7eee0",
   "metadata": {},
   "outputs": [],
   "source": [
    "pickle.dump(bg_outputs,open(args.IN+'/NN_outputs_background_only.pk','wb'))"
   ]
  },
  {
   "cell_type": "markdown",
   "id": "aa5464f5",
   "metadata": {},
   "source": [
    "### Testing NN w/ signal only (Class 0)"
   ]
  },
  {
   "cell_type": "code",
   "execution_count": 20,
   "id": "5c45659f",
   "metadata": {},
   "outputs": [],
   "source": [
    "model.load_state_dict(torch.load('model/best_model.pt'))\n",
    "model.eval()\n",
    "with torch.no_grad():\n",
    "    signal_outputs,signal_labels=[],[]\n",
    "    for batch_idx, (rhorho_s,rhorho_t,label_s,_) in enumerate(train_loader):\n",
    "        signal_outputs.append(model(rhorho_s).detach().cpu())\n",
    "        signal_labels.append(label_s.detach().cpu())\n",
    "signal_outputs=torch.softmax(torch.cat(signal_outputs),axis=1).numpy()\n",
    "signal_labels=np.concatenate(signal_labels)\n",
    "\n",
    "####### Filtering signal outputs that are classified to Class 0\n",
    "signal_outputs=signal_outputs[np.argmax(signal_labels,axis=1)==0]\n",
    "signal_labels=np.argmax(signal_outputs,axis=1)"
   ]
  },
  {
   "cell_type": "code",
   "execution_count": 21,
   "id": "6e367615",
   "metadata": {},
   "outputs": [],
   "source": [
    "pickle.dump(signal_outputs,open(args.IN+'/NN_outputs_signal_only.pk','wb'))"
   ]
  },
  {
   "cell_type": "markdown",
   "id": "227a5a8e",
   "metadata": {},
   "source": [
    "### Test Results"
   ]
  },
  {
   "cell_type": "code",
   "execution_count": 22,
   "id": "7d400b03",
   "metadata": {},
   "outputs": [],
   "source": [
    "bg_outputs = pickle.load(open(args.IN+'/NN_outputs_background_only.pk','rb'))\n",
    "signal_outputs= pickle.load(open(args.IN+'/NN_outputs_signal_only.pk','rb'))"
   ]
  },
  {
   "cell_type": "code",
   "execution_count": null,
   "id": "a5a5e3e3",
   "metadata": {},
   "outputs": [],
   "source": [
    "# plt.fill_between(np.arange(args.NUM_CLASSES-1),0,bg_labels_counts,alpha=1,hatch='/', facecolor=\"skyblue\")\n",
    "# plt.fill_between(np.arange(args.NUM_CLASSES-1),bg_labels_counts,bg_labels_counts+signal_labels_counts,color='red',alpha=1)\n",
    "#plt.fill_between(np.arange(args.NUM_CLASSES-1),outputs.mean(axis=0)[:args.NUM_CLASSES-1],outputs.mean(axis=0)[:args.NUM_CLASSES-1]+signal_outputs[np.argmax(signal_labels,axis=1)==0].mean(axis=0)[:args.NUM_CLASSES-1],color='red',alpha=1)"
   ]
  },
  {
   "cell_type": "code",
   "execution_count": 23,
   "id": "59fb9962",
   "metadata": {
    "scrolled": false
   },
   "outputs": [
    {
     "data": {
      "image/png": "[encoded data removed]",
      "text/plain": [
       "<Figure size 900x600 with 1 Axes>"
      ]
     },
     "metadata": {
      "needs_background": "light"
     },
     "output_type": "display_data"
    }
   ],
   "source": [
    "# create the dataframe; enumerate is used to make column names\n",
    "columns=['Ztt','Signal']\n",
    "fig,ax=plt.subplots(dpi=150)\n",
    "plt.xlabel(\"Classes\")\n",
    "plt.ylabel(\"Events\")\n",
    "df = pd.concat([pd.DataFrame(a, columns=[columns[i]]) for i, a in enumerate([bg_outputs, np.argmax(signal_outputs,axis=1)], 0)], axis=1)\n",
    "\n",
    "# plot the data\n",
    "ax.set_xlim(0,args.NUM_CLASSES-1)\n",
    "ax = df.plot.hist(stacked=True, bins=args.NUM_CLASSES-1,ax=ax, color = ['skyblue','red']).get_figure()\n",
    "# ax.set_xticks(np.arange(args.NUM_CLASSES-1))\n",
    "# ax.set_xticklabels((np.linspace(0,2,args.NUM_CLASSES-1)*np.pi))\n",
    "#bars = ax.patches\n",
    "# hatches = ['/','\\\\']\n",
    "\n",
    "# for i in range(2):\n",
    "#     for j in range(args.NUM_CLASSES-1):\n",
    "#         bars[i*(args.NUM_CLASSES-1)+j].set_hatch(hatches[i])"
   ]
  },
  {
   "cell_type": "code",
   "execution_count": 1,
   "id": "c6b0f454",
   "metadata": {},
   "outputs": [
    {
     "ename": "NameError",
     "evalue": "name 'ax' is not defined",
     "output_type": "error",
     "traceback": [
      "\u001b[0;31m---------------------------------------------------------------------------\u001b[0m",
      "\u001b[0;31mNameError\u001b[0m                                 Traceback (most recent call last)",
      "\u001b[0;32m/var/folders/hw/2r8_w_bn37zdmgyry9lrr9t40000gn/T/ipykernel_35807/4081976167.py\u001b[0m in \u001b[0;36m<module>\u001b[0;34m\u001b[0m\n\u001b[0;32m----> 1\u001b[0;31m \u001b[0max\u001b[0m\u001b[0;34m.\u001b[0m\u001b[0msavefig\u001b[0m\u001b[0;34m(\u001b[0m\u001b[0;34m'TestResults.pdf'\u001b[0m\u001b[0;34m)\u001b[0m\u001b[0;34m\u001b[0m\u001b[0;34m\u001b[0m\u001b[0m\n\u001b[0m",
      "\u001b[0;31mNameError\u001b[0m: name 'ax' is not defined"
     ]
    }
   ],
   "source": [
    "ax.savefig('TestResults.pdf')"
   ]
  },
  {
   "cell_type": "code",
   "execution_count": 24,
   "id": "4fa29602",
   "metadata": {},
   "outputs": [],
   "source": [
    "signal_df = pd.DataFrame(np.argmax(signal_outputs, axis=1), columns=[columns[1]])\n",
    "bkgd_df = pd.DataFrame(bg_outputs, columns=[columns[0]])\n",
    "signal_df = signal_df.groupby('Signal').size().to_frame('SgCounts').reset_index().rename({'Signal':'Class'},axis=1)\n",
    "bkgd_df = bkgd_df.groupby('Ztt').size().to_frame('BgCounts').reset_index().rename({'Ztt':'Class'},axis=1)\n",
    "total = pd.concat([signal_df,bkgd_df['BgCounts']],axis = 1) "
   ]
  },
  {
   "cell_type": "code",
   "execution_count": 25,
   "id": "92c54e7e",
   "metadata": {
    "scrolled": false
   },
   "outputs": [
    {
     "data": {
      "image/png": "[encoded data removed]",
      "text/plain": [
       "<Figure size 900x1500 with 2 Axes>"
      ]
     },
     "metadata": {
      "needs_background": "light"
     },
     "output_type": "display_data"
    }
   ],
   "source": [
    "import seaborn as sns\n",
    "import matplotlib.patches as mpatches\n",
    "\n",
    "fig, axis = plt.subplots(2,1,figsize=(6,10),dpi=150)\n",
    "fig.suptitle(\"RhoRho Test Results\", fontsize=15)\n",
    "axis[0].set_title('Signal + Background Results', fontsize=11)\n",
    "axis[1].set_title('Background Results with Error Bar', fontsize=11)\n",
    "# set plot style: grey grid in the background:\n",
    "sns.set(style=\"darkgrid\")\n",
    "\n",
    "total[['BgCounts','SgCounts']].plot(kind=\"bar\", ax = axis[0],stacked=True,color = ['skyblue','r']).get_figure()\n",
    "\n",
    "# add legend\n",
    "top_bar = mpatches.Patch(color='r', label='Signal')\n",
    "bottom_bar = mpatches.Patch(color='skyblue', label='Ztt')\n",
    "axis[0].legend(handles=[top_bar, bottom_bar])\n",
    "\n",
    "for i in range(len(axis)): \n",
    "    axis[i].set_xlabel(\"Classes\",fontsize=10)\n",
    "    axis[i].set_ylabel(\"Events\",fontsize=10)\n",
    "\n",
    "\n",
    "Poisson_std = [math.sqrt(i) for i in total['BgCounts'].to_numpy()]\n",
    "total[['BgCounts']].plot(kind=\"bar\", ax = axis[1],stacked=True,color = ['skyblue','r'], yerr = Poisson_std, alpha = 1)\n",
    "# ax.bar(x_pos, CTEs, yerr=error, align='center', alpha=0.5, ecolor='black', capsize=10)\n",
    "axis[1].legend(handles=[bottom_bar])\n",
    "\n",
    "# show the graph\n",
    "plt.show()"
   ]
  },
  {
   "cell_type": "code",
   "execution_count": 32,
   "id": "1f1722f4",
   "metadata": {},
   "outputs": [],
   "source": [
    "fig.savefig('TestResults2.pdf')"
   ]
  },
  {
   "cell_type": "code",
   "execution_count": null,
   "id": "24cc5aa7",
   "metadata": {},
   "outputs": [],
   "source": []
  }
 ],
 "metadata": {
  "kernelspec": {
   "display_name": "Python 3 (ipykernel)",
   "language": "python",
   "name": "python3"
  },
  "language_info": {
   "codemirror_mode": {
    "name": "ipython",
    "version": 3
   },
   "file_extension": ".py",
   "mimetype": "text/x-python",
   "name": "python",
   "nbconvert_exporter": "python",
   "pygments_lexer": "ipython3",
   "version": "3.8.8"
  }
 },
 "nbformat": 4,
 "nbformat_minor": 5
}
