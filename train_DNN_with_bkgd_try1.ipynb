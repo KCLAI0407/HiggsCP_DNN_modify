{
 "cells": [
  {
   "cell_type": "code",
   "execution_count": 1,
   "id": "f0fe16eb",
   "metadata": {},
   "outputs": [
    {
     "name": "stdout",
     "output_type": "stream",
     "text": [
      "WARNING:tensorflow:From /Users/elsonlai/4610/lib/python3.8/site-packages/tensorflow/python/compat/v2_compat.py:101: disable_resource_variables (from tensorflow.python.ops.variable_scope) is deprecated and will be removed in a future version.\n",
      "Instructions for updating:\n",
      "non-resource variables are not supported in the long term\n"
     ]
    }
   ],
   "source": [
    "import numpy as np\n",
    "import torch\n",
    "import torch.nn as nn\n",
    "import torch.nn.functional as F\n",
    "import pickle\n",
    "from tqdm.notebook import tqdm\n",
    "from Eearly_stop import *\n",
    "from sklearn.metrics import roc_auc_score, accuracy_score\n",
    "import sys\n",
    "import pandas as pd\n",
    "import argparse\n",
    "import os\n",
    "import matplotlib.pyplot as plt\n",
    "import warnings\n",
    "warnings.filterwarnings('ignore')\n",
    "import math\n",
    "from torch.utils.data import Dataset, DataLoader\n",
    "from src_py.cpmix_utils import preprocess_data\n",
    "from src_py.rhorho import RhoRhoEvent\n",
    "from src_py.a1a1 import A1A1Event\n",
    "from src_py.a1rho import A1RhoEvent\n",
    "from src_py.data_utils import read_np, EventDatasets\n",
    "from src_py.process_background import convert_bkgd_raw\n",
    "import train_rhorho, train_a1rho, train_a1a1\n",
    "from src_py.metrics_utils import calculate_deltas_unsigned, calculate_deltas_signed"
   ]
  },
  {
   "cell_type": "code",
   "execution_count": 2,
   "id": "4de1c1ba",
   "metadata": {},
   "outputs": [
    {
     "name": "stdout",
     "output_type": "stream",
     "text": [
      "Using cpu device\n"
     ]
    }
   ],
   "source": [
    "device = torch.device('cuda:0') if torch.cuda.is_available() else torch.device('cpu')\n",
    "print('Using {} device'.format(device))"
   ]
  },
  {
   "cell_type": "code",
   "execution_count": 13,
   "id": "22871d0e",
   "metadata": {},
   "outputs": [],
   "source": [
    "decaymodes = ['rhorho', 'a1rho', 'a1a1']\n",
    "types = {\"nn_rhorho\": train_rhorho.start,\"nn_a1rho\": train_a1rho.start,\"nn_a1a1\": train_a1a1.start}\n",
    "parser = argparse.ArgumentParser(description='Train classifier')\n",
    "\n",
    "parser.add_argument(\"--num_classes\", dest=\"NUM_CLASSES\", type=int, default=22)\n",
    "parser.add_argument(\"-l\", \"--layers\", dest=\"LAYERS\", type=int, help = \"number of NN layers\", default=6)\n",
    "parser.add_argument(\"-s\", \"--size\", dest=\"SIZE\", type=int, help=\"NN size\", default=1000)\n",
    "parser.add_argument(\"-lambda\", \"--lambda\", type=float, dest=\"LAMBDA\", help=\"value of lambda parameter\", default=0.0)\n",
    "parser.add_argument(\"-m\", \"--method\", dest=\"METHOD\", choices=[\"A\", \"B\", \"C\"], default=\"A\")\n",
    "parser.add_argument(\"-o\", \"--optimizer\", dest=\"OPT\", \n",
    "    choices=[\"GradientDescentOptimizer\", \"AdadeltaOptimizer\", \"AdagradOptimizer\",\n",
    "         \"ProximalAdagradOptimizer\", \"AdamOptimizer\", \"FtrlOptimizer\",\n",
    "         \"ProximalGradientDescentOptimizer\", \"RMSPropOptimizer\"], default=\"AdamOptimizer\")\n",
    "parser.add_argument(\"-d\", \"--dropout\", dest=\"DROPOUT\", type=float, default=0.0)\n",
    "parser.add_argument(\"-e\", \"--epochs\", dest=\"EPOCHS\", type=int, default=25)\n",
    "# parser.add_argument(\"-f\", \"--features\", dest=\"FEAT\", help=\"Features\", default=\"Variant-All\")\n",
    "# #         choices= [\"Variant-All\", \"Variant-1.0\", \"Variant-1.1\", \"Variant-2.0\", \"Variant-2.1\",\n",
    "# #                   \"Variant-2.2\", \"Variant-3.0\", \"Variant-3.1\", \"Variant-4.0\", \"Variant-4.1\"])\n",
    "\n",
    "########### Change this to according dir to download data #######################\n",
    "parser.add_argument(\"-i\", \"--input\", dest=\"IN\", default='HiggsCP_data/rhorho')\n",
    "\n",
    "parser.add_argument(\"--miniset\", dest=\"MINISET\", type=lambda s: s.lower() in ['true', 't', 'yes', '1'], default=False)\n",
    "parser.add_argument(\"--z_noise_fraction\", dest=\"Z_NOISE_FRACTION\", type=float, default=0.0)\n",
    "\n",
    "parser.add_argument(\"--delt_classes\", dest=\"DELT_CLASSES\", type=int, default=0,\n",
    "                    help='Maximal distance between predicted and valid class for event being considered as correctly classified')\n",
    "\n",
    "parser.add_argument(\"--unweighted\", dest=\"UNWEIGHTED\", type=lambda s: s.lower() in ['true', 't', 'yes', '1'], default=False)\n",
    "parser.add_argument(\"--reuse_weights\", dest=\"REUSE_WEIGHTS\", type=bool, default=False)\n",
    "parser.add_argument(\"--restrict_most_probable_angle\", dest=\"RESTRICT_MOST_PROBABLE_ANGLE\", type=bool, default=False)\n",
    "parser.add_argument(\"--force_download\", dest=\"FORCE_DOWNLOAD\", type=bool, default=False)\n",
    "parser.add_argument(\"--normalize_weights\", dest=\"NORMALIZE_WEIGHTS\", type=bool, default=False)\n",
    "\n",
    "\n",
    "parser.add_argument(\"--beta\",  type=float, dest=\"BETA\", help=\"value of beta parameter for polynomial smearing\", default=0.0)\n",
    "parser.add_argument(\"--pol_b\", type=float, dest=\"pol_b\", help=\"value of b parameter for polynomial smearing\", default=0.0)\n",
    "parser.add_argument(\"--pol_c\", type=float, dest=\"pol_c\", help=\"value of c parameter for polynomial smearing\", default=0.0)\n",
    "\n",
    "parser.add_argument(\"--w1\", dest=\"W1\")\n",
    "parser.add_argument(\"--w2\", dest=\"W2\")\n",
    "parser.add_argument(\"--f\", dest=\"FEAT\", default=\"Variant-All\")\n",
    "parser.add_argument(\"--plot_features\", dest=\"PLOT_FEATURES\", choices=[\"NO\", \"FILTER\", \"NO-FILTER\"], default=\"NO\")\n",
    "parser.add_argument(\"--training_method\", dest=\"TRAINING_METHOD\", choices=[\"soft_weights\", \"soft_c012s\",  \"soft_argmaxs\", \"regr_c012s\", \"regr_weights\", \"regr_argmaxs\"], default=\"soft_weights\")\n",
    "parser.add_argument(\"--hits_c012s\", dest=\"HITS_C012s\", choices=[\"hits_c0s\", \"hits_c1s\",  \"hits_c2s\"], default=\"hits_c0s\")\n",
    "\n",
    "######Change this to according type (rhorho, a1rho, a1a1)#######################\n",
    "parser.add_argument(\"-t\", \"--type\", dest=\"TYPE\", choices=types.keys(), default='nn_rhorho')\n",
    "\n",
    "parser.add_argument(\"-r\", \"--reprocess\", dest=\"REPRO\", type=bool, default=True)\n",
    "args, unknown = parser.parse_known_args()\n",
    "parser.add_argument(\"-bkgd\", \"--bkgdpath\", dest=\"BKGDPATH\", default= 'Ztt_dataset_Elz/pythia.Z_115_135.%s.1M.*.outTUPLE_labFrame')\n",
    "args, unknown = parser.parse_known_args()\n",
    "parser.add_argument(\"--label_bkgd\", dest=\"LABEL\", type=bool, default=True)\n",
    "args, unknown = parser.parse_known_args()"
   ]
  },
  {
   "cell_type": "markdown",
   "id": "b6f4615b",
   "metadata": {},
   "source": [
    "# Preprocessing signal+background (with label) samples from all the decaymodes"
   ]
  },
  {
   "cell_type": "code",
   "execution_count": 4,
   "id": "f3269d6a",
   "metadata": {},
   "outputs": [
    {
     "data": {
      "application/vnd.jupyter.widget-view+json": {
       "model_id": "6996458a9c954ac4a48fd2e6c32e9272",
       "version_major": 2,
       "version_minor": 0
      },
      "text/plain": [
       "  0%|          | 0/3 [00:00<?, ?it/s]"
      ]
     },
     "metadata": {},
     "output_type": "display_data"
    },
    {
     "name": "stdout",
     "output_type": "stream",
     "text": [
      "Loading data\n",
      "Read 1000000 events\n",
      "Events including background: 2000000\n",
      "SCALE!!\n"
     ]
    }
   ],
   "source": [
    "events={'nn_rhorho':'RhoRhoEvent', 'nn_a1rho':'A1RhoEvent', 'nn_a1a1':'A1A1Event'}\n",
    "if args.REPRO:\n",
    "    if args.LABEL:\n",
    "        for decaymode in tqdm(decaymodes):\n",
    "            points = []\n",
    "            args.Z_NOISE_FRACTION = 1\n",
    "            args.IN = 'HiggsCP_data/'+decaymode\n",
    "            args.TYPE = 'nn_'+decaymode\n",
    "            data, weights, argmaxs, perm, c012s, hits_argmaxs, hits_c012s = preprocess_data(args)\n",
    "            event = eval(events[args.TYPE])(data, args)\n",
    "            points.append(EventDatasets(event, weights, argmaxs, perm, c012s=c012s, hits_argmaxs=hits_argmaxs,  hits_c012s=hits_c012s, miniset=args.MINISET, unweighted=args.UNWEIGHTED))\n",
    "            pickle.dump(points,open(args.IN+'/events_w_background.pk','wb'))\n",
    "            break"
   ]
  },
  {
   "cell_type": "markdown",
   "id": "83177ee4",
   "metadata": {},
   "source": [
    "# Loading samples"
   ]
  },
  {
   "cell_type": "code",
   "execution_count": 14,
   "id": "3d72cfa9",
   "metadata": {},
   "outputs": [],
   "source": [
    "points=pickle.load(open(args.IN+'/events_w_background.pk','rb'))"
   ]
  },
  {
   "cell_type": "markdown",
   "id": "53da11b9",
   "metadata": {},
   "source": [
    "# Training NN"
   ]
  },
  {
   "cell_type": "code",
   "execution_count": 15,
   "id": "f558391d",
   "metadata": {},
   "outputs": [],
   "source": [
    "batch_size=512"
   ]
  },
  {
   "cell_type": "code",
   "execution_count": 16,
   "id": "0bb8f2e3",
   "metadata": {},
   "outputs": [],
   "source": [
    "class MyDataset(Dataset):\n",
    "    def __init__(self, rhorho_data_mc,rhorho_data_true,rhorho_labels_mc,rhorho_labels_true):\n",
    "        self.rhorho_data_mc = torch.from_numpy(rhorho_data_mc).float().to(device)\n",
    "        self.rhorho_data_true = torch.from_numpy(rhorho_data_true).float().to(device)\n",
    "        \n",
    "        self.rhorho_labels_mc =torch.from_numpy(rhorho_labels_mc).float().to(device)\n",
    "        self.rhorho_labels_true =torch.from_numpy(rhorho_labels_true).float().to(device)\n",
    "    def __getitem__(self, index):\n",
    "        return self.rhorho_data_mc[index],self.rhorho_data_true[index],self.rhorho_labels_mc[index],self.rhorho_labels_true[index]\n",
    "    def __len__(self):\n",
    "        return min(len(self.rhorho_labels_mc),len(self.rhorho_labels_true))"
   ]
  },
  {
   "cell_type": "code",
   "execution_count": 17,
   "id": "9d065501",
   "metadata": {},
   "outputs": [],
   "source": [
    "particle_idx=0\n",
    "\n",
    "mc_train_idx=np.random.choice(np.arange(points[particle_idx].train.x.shape[0]),int(points[particle_idx].train.x.shape[0]*0.5),replace=False)\n",
    "true_train_idx=list(set(np.arange(points[particle_idx].train.x.shape[0]))-set(mc_train_idx))\n",
    "\n",
    "mc_valid_idx=np.random.choice(np.arange(points[particle_idx].valid.x.shape[0]),int(points[particle_idx].valid.x.shape[0]*0.5),replace=False)\n",
    "true_valid_idx=list(set(np.arange(points[particle_idx].valid.x.shape[0]))-set(mc_train_idx))\n",
    "\n",
    "mc_test_idx=np.random.choice(np.arange(points[particle_idx].test.x.shape[0]),int(points[particle_idx].test.x.shape[0]*0.5),replace=False)\n",
    "true_test_idx=list(set(np.arange(points[particle_idx].test.x.shape[0]))-set(mc_train_idx))"
   ]
  },
  {
   "cell_type": "code",
   "execution_count": 18,
   "id": "88ff1c3b",
   "metadata": {},
   "outputs": [],
   "source": [
    "uncertainty=0.0\n",
    "\n",
    "train_datasets = MyDataset(points[particle_idx].train.x[mc_train_idx], points[particle_idx].train.x[true_train_idx]+uncertainty*np.random.normal(0,1,size=points[particle_idx].train.x[true_train_idx].shape),\n",
    "                          points[particle_idx].train.weights[mc_train_idx],points[particle_idx].train.weights[true_train_idx])\n",
    "train_loader = DataLoader(dataset = train_datasets,batch_size = batch_size,shuffle = True)\n",
    "\n",
    "\n",
    "valid_datasets = MyDataset(points[particle_idx].valid.x[mc_valid_idx], points[particle_idx].valid.x[true_valid_idx]+uncertainty*np.random.normal(0,1,size=points[particle_idx].valid.x[true_valid_idx].shape),\n",
    "                          points[particle_idx].valid.weights[mc_valid_idx],points[particle_idx].valid.weights[true_valid_idx])\n",
    "valid_loader = DataLoader(dataset = valid_datasets,batch_size = batch_size,shuffle = True)\n",
    "\n",
    "\n",
    "test_datasets = MyDataset(points[particle_idx].test.x[mc_test_idx], points[particle_idx].test.x[true_test_idx]+uncertainty*np.random.normal(0,1,size=points[particle_idx].test.x[true_test_idx].shape),\n",
    "                          points[particle_idx].test.weights[mc_test_idx],points[particle_idx].test.weights[true_test_idx])\n",
    "test_loader = DataLoader(dataset = test_datasets,batch_size = batch_size,shuffle = True)"
   ]
  },
  {
   "cell_type": "code",
   "execution_count": 19,
   "id": "57180f10",
   "metadata": {},
   "outputs": [],
   "source": [
    "class NeuralNetwork(nn.Module):\n",
    "    def __init__(self, num_features, num_classes, num_layers=1, size=100, lr=1e-3, drop_prob=0, inplace=False, \n",
    "                 tloss=\"regr_weights\", activation='linear', input_noise=0.0, optimizer=\"AdamOptimizer\"):\n",
    "        super(NeuralNetwork, self).__init__()\n",
    "        self.linear1 = nn.Linear(num_features,size,bias=False)\n",
    "        layers = []\n",
    "        for i in range(num_layers):\n",
    "            layers.extend([nn.Linear(size,size,bias=False),\n",
    "                           nn.BatchNorm1d(size),\n",
    "                           nn.ReLU(),\n",
    "                           nn.Dropout(drop_prob, inplace)\n",
    "                          ])\n",
    "        self.linear_relu_stack = nn.Sequential(*layers)\n",
    "        self.linear2 = nn.Linear(size,num_classes,bias=False)\n",
    "        self.linear3 = nn.Linear(size,2,bias=False)\n",
    "    def forward(self, x):\n",
    "        x = self.linear1(x)\n",
    "        x = self.linear_relu_stack(x)\n",
    "        out = self.linear2(x)\n",
    "        return out"
   ]
  },
  {
   "cell_type": "code",
   "execution_count": 20,
   "id": "bc23372e",
   "metadata": {},
   "outputs": [],
   "source": [
    "model = NeuralNetwork(num_features=points[particle_idx].train.x.shape[1], num_classes=args.NUM_CLASSES,num_layers=args.LAYERS,drop_prob=0).to(device)\n",
    "opt_g=torch.optim.Adam(model.parameters(),lr=1e-3)\n",
    "criterion=nn.CrossEntropyLoss()\n",
    "early_stopping = EarlyStopping(patience=10, verbose=True,path='model/best_model.pt')"
   ]
  },
  {
   "cell_type": "code",
   "execution_count": 21,
   "id": "3e2c0fd6",
   "metadata": {},
   "outputs": [
    {
     "name": "stdout",
     "output_type": "stream",
     "text": [
      " training loss: 1.656 \t acc: 0.491 \t\n",
      "\n",
      "  acc: 0.573 \t \n",
      "Validation loss decreased (inf --> -0.573305).  Saving model ...\n",
      " training loss: 1.309 \t acc: 0.581 \t\n",
      "\n",
      "  acc: 0.612 \t \n",
      "Validation loss decreased (-0.573305 --> -0.611705).  Saving model ...\n",
      " training loss: 1.207 \t acc: 0.607 \t\n",
      "\n",
      "  acc: 0.629 \t \n",
      "Validation loss decreased (-0.611705 --> -0.628836).  Saving model ...\n",
      " training loss: 1.148 \t acc: 0.622 \t\n",
      "\n",
      "  acc: 0.650 \t \n",
      "Validation loss decreased (-0.628836 --> -0.649904).  Saving model ...\n",
      " training loss: 1.111 \t acc: 0.631 \t\n",
      "\n",
      "  acc: 0.661 \t \n",
      "Validation loss decreased (-0.649904 --> -0.661291).  Saving model ...\n",
      " training loss: 1.075 \t acc: 0.640 \t\n",
      "\n",
      "  acc: 0.669 \t \n",
      "Validation loss decreased (-0.661291 --> -0.668621).  Saving model ...\n",
      " training loss: 1.055 \t acc: 0.645 \t\n",
      "\n",
      "  acc: 0.678 \t \n",
      "Validation loss decreased (-0.668621 --> -0.678241).  Saving model ...\n",
      " training loss: 1.034 \t acc: 0.651 \t\n",
      "\n",
      "  acc: 0.680 \t \n",
      "Validation loss decreased (-0.678241 --> -0.679567).  Saving model ...\n",
      " training loss: 1.020 \t acc: 0.655 \t\n",
      "\n",
      "  acc: 0.689 \t \n",
      "Validation loss decreased (-0.679567 --> -0.689328).  Saving model ...\n",
      " training loss: 1.004 \t acc: 0.659 \t\n",
      "\n",
      "  acc: 0.691 \t \n",
      "Validation loss decreased (-0.689328 --> -0.690553).  Saving model ...\n",
      " training loss: 0.994 \t acc: 0.661 \t\n",
      "\n",
      "  acc: 0.693 \t \n",
      "Validation loss decreased (-0.690553 --> -0.692601).  Saving model ...\n",
      " training loss: 0.983 \t acc: 0.664 \t\n",
      "\n",
      "  acc: 0.693 \t \n",
      "Validation loss decreased (-0.692601 --> -0.692722).  Saving model ...\n",
      " training loss: 0.976 \t acc: 0.666 \t\n",
      "\n",
      "  acc: 0.699 \t \n",
      "Validation loss decreased (-0.692722 --> -0.699189).  Saving model ...\n",
      " training loss: 0.968 \t acc: 0.668 \t\n",
      "\n",
      "  acc: 0.699 \t \n",
      "EarlyStopping counter: 1 out of 10\n",
      " training loss: 0.957 \t acc: 0.670 \t\n",
      "\n",
      "  acc: 0.703 \t \n",
      "Validation loss decreased (-0.699189 --> -0.702522).  Saving model ...\n",
      " training loss: 0.952 \t acc: 0.672 \t\n",
      "\n",
      "  acc: 0.705 \t \n",
      "Validation loss decreased (-0.702522 --> -0.705174).  Saving model ...\n",
      " training loss: 0.944 \t acc: 0.674 \t\n",
      "\n",
      "  acc: 0.705 \t \n",
      "EarlyStopping counter: 1 out of 10\n",
      " training loss: 0.937 \t acc: 0.676 \t\n",
      "\n",
      "  acc: 0.704 \t \n",
      "EarlyStopping counter: 2 out of 10\n",
      " training loss: 0.934 \t acc: 0.677 \t\n",
      "\n",
      "  acc: 0.708 \t \n",
      "Validation loss decreased (-0.705174 --> -0.707563).  Saving model ...\n",
      " training loss: 0.926 \t acc: 0.678 \t\n",
      "\n",
      "  acc: 0.710 \t \n",
      "Validation loss decreased (-0.707563 --> -0.710214).  Saving model ...\n",
      " training loss: 0.924 \t acc: 0.679 \t\n",
      "\n",
      "  acc: 0.708 \t \n",
      "EarlyStopping counter: 1 out of 10\n",
      " training loss: 0.919 \t acc: 0.680 \t\n",
      "\n",
      "  acc: 0.712 \t \n",
      "Validation loss decreased (-0.710214 --> -0.712363).  Saving model ...\n",
      " training loss: 0.913 \t acc: 0.682 \t\n",
      "\n",
      "  acc: 0.715 \t \n",
      "Validation loss decreased (-0.712363 --> -0.714894).  Saving model ...\n",
      " training loss: 0.911 \t acc: 0.683 \t\n",
      "\n",
      "  acc: 0.713 \t \n",
      "EarlyStopping counter: 1 out of 10\n",
      " training loss: 0.908 \t acc: 0.683 \t\n",
      "\n",
      "  acc: 0.712 \t \n",
      "EarlyStopping counter: 2 out of 10\n",
      " training loss: 0.905 \t acc: 0.684 \t\n",
      "\n",
      "  acc: 0.716 \t \n",
      "Validation loss decreased (-0.714894 --> -0.716420).  Saving model ...\n",
      " training loss: 0.902 \t acc: 0.685 \t\n",
      "\n",
      "  acc: 0.718 \t \n",
      "Validation loss decreased (-0.716420 --> -0.718168).  Saving model ...\n",
      " training loss: 0.896 \t acc: 0.686 \t\n",
      "\n",
      "  acc: 0.720 \t \n",
      "Validation loss decreased (-0.718168 --> -0.719935).  Saving model ...\n",
      " training loss: 0.892 \t acc: 0.688 \t\n",
      "\n",
      "  acc: 0.719 \t \n",
      "EarlyStopping counter: 1 out of 10\n",
      " training loss: 0.893 \t acc: 0.688 \t\n",
      "\n",
      "  acc: 0.721 \t \n",
      "Validation loss decreased (-0.719935 --> -0.720799).  Saving model ...\n",
      " training loss: 0.887 \t acc: 0.689 \t\n",
      "\n",
      "  acc: 0.721 \t \n",
      "EarlyStopping counter: 1 out of 10\n",
      " training loss: 0.883 \t acc: 0.690 \t\n",
      "\n",
      "  acc: 0.717 \t \n",
      "EarlyStopping counter: 2 out of 10\n",
      " training loss: 0.881 \t acc: 0.690 \t\n",
      "\n",
      "  acc: 0.724 \t \n",
      "Validation loss decreased (-0.720799 --> -0.723972).  Saving model ...\n",
      " training loss: 0.881 \t acc: 0.691 \t\n",
      "\n",
      "  acc: 0.721 \t \n",
      "EarlyStopping counter: 1 out of 10\n",
      " training loss: 0.880 \t acc: 0.690 \t\n",
      "\n",
      "  acc: 0.719 \t \n",
      "EarlyStopping counter: 2 out of 10\n",
      " training loss: 0.877 \t acc: 0.692 \t\n",
      "\n",
      "  acc: 0.727 \t \n",
      "Validation loss decreased (-0.723972 --> -0.726824).  Saving model ...\n",
      " training loss: 0.875 \t acc: 0.692 \t\n",
      "\n",
      "  acc: 0.728 \t \n",
      "Validation loss decreased (-0.726824 --> -0.728450).  Saving model ...\n",
      " training loss: 0.871 \t acc: 0.693 \t\n",
      "\n",
      "  acc: 0.729 \t \n",
      "Validation loss decreased (-0.728450 --> -0.728732).  Saving model ...\n",
      " training loss: 0.870 \t acc: 0.693 \t\n",
      "\n",
      "  acc: 0.723 \t \n",
      "EarlyStopping counter: 1 out of 10\n",
      " training loss: 0.868 \t acc: 0.694 \t\n",
      "\n",
      "  acc: 0.723 \t \n",
      "EarlyStopping counter: 2 out of 10\n",
      " training loss: 0.865 \t acc: 0.694 \t\n",
      "\n",
      "  acc: 0.726 \t \n",
      "EarlyStopping counter: 3 out of 10\n",
      " training loss: 0.861 \t acc: 0.696 \t\n",
      "\n",
      "  acc: 0.726 \t \n",
      "EarlyStopping counter: 4 out of 10\n",
      " training loss: 0.859 \t acc: 0.696 \t\n",
      "\n",
      "  acc: 0.723 \t \n",
      "EarlyStopping counter: 5 out of 10\n",
      " training loss: 0.862 \t acc: 0.695 \t\n",
      "\n",
      "  acc: 0.728 \t \n",
      "EarlyStopping counter: 6 out of 10\n",
      " training loss: 0.858 \t acc: 0.696 \t\n",
      "\n",
      "  acc: 0.726 \t \n",
      "EarlyStopping counter: 7 out of 10\n",
      " training loss: 0.857 \t acc: 0.697 \t\n",
      "\n",
      "  acc: 0.730 \t \n",
      "Validation loss decreased (-0.728732 --> -0.730419).  Saving model ...\n",
      " training loss: 0.853 \t acc: 0.698 \t\n",
      "\n",
      "  acc: 0.729 \t \n",
      "EarlyStopping counter: 1 out of 10\n",
      " training loss: 0.852 \t acc: 0.699 \t\n",
      "\n",
      "  acc: 0.727 \t \n",
      "EarlyStopping counter: 2 out of 10\n",
      " training loss: 0.849 \t acc: 0.699 \t\n",
      "\n",
      "  acc: 0.721 \t \n",
      "EarlyStopping counter: 3 out of 10\n",
      " training loss: 0.847 \t acc: 0.699 \t\n",
      "\n",
      "  acc: 0.728 \t \n",
      "EarlyStopping counter: 4 out of 10\n",
      " training loss: 0.848 \t acc: 0.699 \t\n",
      "\n",
      "  acc: 0.730 \t \n",
      "EarlyStopping counter: 5 out of 10\n",
      " training loss: 0.846 \t acc: 0.700 \t\n",
      "\n",
      "  acc: 0.727 \t \n",
      "EarlyStopping counter: 6 out of 10\n",
      " training loss: 0.844 \t acc: 0.700 \t\n",
      "\n",
      "  acc: 0.732 \t \n",
      "Validation loss decreased (-0.730419 --> -0.731844).  Saving model ...\n",
      " training loss: 0.844 \t acc: 0.700 \t\n",
      "\n",
      "  acc: 0.733 \t \n",
      "Validation loss decreased (-0.731844 --> -0.733130).  Saving model ...\n",
      " training loss: 0.844 \t acc: 0.701 \t\n",
      "\n",
      "  acc: 0.728 \t \n",
      "EarlyStopping counter: 1 out of 10\n",
      " training loss: 0.840 \t acc: 0.701 \t\n",
      "\n",
      "  acc: 0.732 \t \n",
      "EarlyStopping counter: 2 out of 10\n",
      " training loss: 0.837 \t acc: 0.702 \t\n",
      "\n",
      "  acc: 0.732 \t \n",
      "EarlyStopping counter: 3 out of 10\n",
      " training loss: 0.835 \t acc: 0.703 \t\n",
      "\n",
      "  acc: 0.732 \t \n",
      "EarlyStopping counter: 4 out of 10\n",
      " training loss: 0.835 \t acc: 0.703 \t\n",
      "\n",
      "  acc: 0.728 \t \n",
      "EarlyStopping counter: 5 out of 10\n",
      " training loss: 0.835 \t acc: 0.702 \t\n",
      "\n",
      "  acc: 0.730 \t \n",
      "EarlyStopping counter: 6 out of 10\n",
      " training loss: 0.831 \t acc: 0.703 \t\n",
      "\n",
      "  acc: 0.730 \t \n",
      "EarlyStopping counter: 7 out of 10\n",
      " training loss: 0.831 \t acc: 0.704 \t\n",
      "\n",
      "  acc: 0.733 \t \n",
      "EarlyStopping counter: 8 out of 10\n",
      " training loss: 0.829 \t acc: 0.705 \t\n",
      "\n",
      "  acc: 0.729 \t \n",
      "EarlyStopping counter: 9 out of 10\n",
      " training loss: 0.829 \t acc: 0.705 \t\n",
      "\n",
      "  acc: 0.731 \t \n",
      "EarlyStopping counter: 10 out of 10\n",
      "Early stopping\n"
     ]
    }
   ],
   "source": [
    "epoch=200\n",
    "for i in range(epoch):\n",
    "    model.train()\n",
    "    train_loss,sample_numbers,acc,total_samples,bg_acc=0,0,0,0,0\n",
    "    for batch_idx, (rhorho_s,rhorho_t,label_s,_) in enumerate(train_loader):\n",
    "        \n",
    "        opt_g.zero_grad()\n",
    "        rhorho_s=rhorho_s[label_s.sum(axis=1)!=0]\n",
    "        label_s=label_s[label_s.sum(axis=1)!=0]\n",
    "        outputs=model(rhorho_s)\n",
    "        if isinstance(criterion,nn.CrossEntropyLoss):\n",
    "            loss=criterion(outputs,torch.argmax(label_s,axis=1))\n",
    "            _, predictions = torch.max(outputs, 1)\n",
    "            acc+=(predictions==torch.argmax(label_s,axis=1)).sum().item()\n",
    "        else:\n",
    "            loss=criterion(outputs,label_s)\n",
    "        loss.backward()\n",
    "        train_loss+=loss.item()*len(rhorho_s)\n",
    "        sample_numbers+=len(rhorho_s)\n",
    "        opt_g.step()\n",
    "        print('\\r training loss: %.3f \\t acc: %.3f \\t' %(train_loss/sample_numbers,acc/sample_numbers),end='')\n",
    "    print()\n",
    "    vaild_acc,vaild_numbers,total_samples,bg_acc=0,0,0,0\n",
    "    model.eval()\n",
    "    with torch.no_grad():\n",
    "        for batch_idx, (rhorho_s,rhorho_t,label_s,label_t) in enumerate(valid_loader):\n",
    "            total_samples+=len(rhorho_t)\n",
    "            rhorho_t= rhorho_t[label_t.sum(axis=1)!=0]\n",
    "            label_t = label_t[label_t.sum(axis=1)!=0]\n",
    "            outputs=model(rhorho_t)\n",
    "            _, predictions = torch.max(outputs, 1)\n",
    "            vaild_acc+=(predictions==torch.argmax(label_t,axis=1)).sum().item()\n",
    "            vaild_numbers+=len(rhorho_t)\n",
    "    print()\n",
    "    print('\\r  acc: %.3f \\t ' %(vaild_acc/vaild_numbers),end='')\n",
    "    print()\n",
    "    early_stopping(-vaild_acc/vaild_numbers,model)\n",
    "    if early_stopping.early_stop:\n",
    "        print(\"Early stopping\")\n",
    "        break;\n",
    "# test_loss=0\n",
    "# with torch.no_grad():\n",
    "#     for inputs, label in test_loader:\n",
    "#         outputs=model(inputs)\n",
    "#         test_loss+=mse_loss(outputs,label).item()*len(inputs)\n",
    "#     print('test loss: %f' %(test_loss/len(test_loader.dataset.tensors[0])))"
   ]
  },
  {
   "cell_type": "markdown",
   "id": "f4cb8b84",
   "metadata": {},
   "source": [
    "# Preprocessing singal and bkgd from all the decaymodes"
   ]
  },
  {
   "cell_type": "code",
   "execution_count": 22,
   "id": "1e488d26",
   "metadata": {},
   "outputs": [
    {
     "data": {
      "application/vnd.jupyter.widget-view+json": {
       "model_id": "78c296ba20564210b37721e7f542c676",
       "version_major": 2,
       "version_minor": 0
      },
      "text/plain": [
       "  0%|          | 0/3 [00:00<?, ?it/s]"
      ]
     },
     "metadata": {},
     "output_type": "display_data"
    },
    {
     "name": "stdout",
     "output_type": "stream",
     "text": [
      "Loading data\n",
      "Read 1000000 events\n",
      "Events including background: 2000000\n",
      "SCALE!!\n"
     ]
    }
   ],
   "source": [
    "events={'nn_rhorho':'RhoRhoEvent', 'nn_a1rho':'A1RhoEvent', 'nn_a1a1':'A1A1Event'}\n",
    "if args.REPRO:\n",
    "    for decaymode in tqdm(decaymodes):\n",
    "        points = []\n",
    "        args.Z_NOISE_FRACTION = 1\n",
    "        args.IN = 'HiggsCP_data/'+decaymode\n",
    "        args.TYPE = 'nn_'+decaymode\n",
    "        data, weights, argmaxs, perm, c012s, hits_argmaxs, hits_c012s = preprocess_data(args)\n",
    "        event = eval(events[args.TYPE])(data, args)\n",
    "        points.append(EventDatasets(event, weights, argmaxs, perm, c012s=c012s, hits_argmaxs=hits_argmaxs,  hits_c012s=hits_c012s, miniset=args.MINISET, unweighted=args.UNWEIGHTED))\n",
    "        pickle.dump(points,open(args.IN+'/events_w_background_test.pk','wb'))\n",
    "        break"
   ]
  },
  {
   "cell_type": "markdown",
   "id": "5ea41caa",
   "metadata": {},
   "source": [
    "# Loading bkgd samples"
   ]
  },
  {
   "cell_type": "code",
   "execution_count": 40,
   "id": "9cde68d6",
   "metadata": {},
   "outputs": [],
   "source": [
    "background_points=pickle.load(open(args.IN+'/events_w_background_T2.pk','rb'))"
   ]
  },
  {
   "cell_type": "code",
   "execution_count": 41,
   "id": "0015e757",
   "metadata": {},
   "outputs": [],
   "source": [
    "particle_idx = 0 # 0 for rhorho\n",
    "background=[]\n",
    "background.append(background_points[particle_idx].train.x[background_points[particle_idx].train.weights.sum(axis=1)==0])\n",
    "background.append(background_points[particle_idx].valid.x[background_points[particle_idx].valid.weights.sum(axis=1)==0])\n",
    "background.append(background_points[particle_idx].test.x[background_points[particle_idx].test.weights.sum(axis=1)==0])"
   ]
  },
  {
   "cell_type": "code",
   "execution_count": 42,
   "id": "7117824e",
   "metadata": {},
   "outputs": [
    {
     "name": "stdout",
     "output_type": "stream",
     "text": [
      "[[ 0.8928995   0.24933578  0.62985915 ...  0.8771771  -0.58949986\n",
      "  -0.58963194]\n",
      " [-0.12877401 -0.68841789  1.02738996 ...  0.00545091 -0.66446369\n",
      "  -0.66468488]\n",
      " [-0.15919597 -1.87282989 -0.08402864 ... -0.03568319  0.02561935\n",
      "   0.02542095]\n",
      " ...\n",
      " [-0.47076451 -0.62303876  0.82948871 ... -2.02694962  0.10832649\n",
      "   0.10838468]\n",
      " [-0.88726951  1.91565503 -1.24572689 ...  1.03217471 -1.13732182\n",
      "  -1.13721968]\n",
      " [ 1.68892435  0.54700317 -0.16232763 ... -1.04946637 -0.43055169\n",
      "  -0.43083456]]\n"
     ]
    }
   ],
   "source": [
    "background=np.concatenate(background)\n",
    "print(background)"
   ]
  },
  {
   "cell_type": "code",
   "execution_count": 43,
   "id": "f14d0672",
   "metadata": {},
   "outputs": [],
   "source": [
    "background=torch.tensor(background).float().to(device)"
   ]
  },
  {
   "cell_type": "markdown",
   "id": "20a14303",
   "metadata": {},
   "source": [
    "# Testing NN w/ bkgd only"
   ]
  },
  {
   "cell_type": "code",
   "execution_count": 44,
   "id": "6603c31b",
   "metadata": {},
   "outputs": [
    {
     "data": {
      "application/vnd.jupyter.widget-view+json": {
       "model_id": "1ce5515527c64441a025489288438159",
       "version_major": 2,
       "version_minor": 0
      },
      "text/plain": [
       "  0%|          | 0/782 [00:00<?, ?it/s]"
      ]
     },
     "metadata": {},
     "output_type": "display_data"
    }
   ],
   "source": [
    "model.load_state_dict(torch.load('model/best_model.pt'))\n",
    "model.eval()\n",
    "with torch.no_grad():\n",
    "    outputs=[]\n",
    "    for i in tqdm(range(0, 400000,batch_size)):\n",
    "        outputs.append(model(background[i:i+batch_size]).detach().cpu())\n",
    "outputs=torch.cat(outputs)\n",
    "\n",
    "bg_outputs=torch.argmax(torch.softmax(outputs,axis=1),axis=1).numpy()\n",
    "bg_labels_counts=np.unique(bg_outputs,return_counts=True)[1]\n"
   ]
  },
  {
   "cell_type": "code",
   "execution_count": 45,
   "id": "ed7bd877",
   "metadata": {},
   "outputs": [],
   "source": [
    "pickle.dump(bg_outputs,open(args.IN+'/NN_outputs_background_only.pk','wb'))"
   ]
  },
  {
   "cell_type": "markdown",
   "id": "3e196526",
   "metadata": {},
   "source": [
    "# Testing NN w/ signal only (Class 0)"
   ]
  },
  {
   "cell_type": "code",
   "execution_count": 46,
   "id": "51c30041",
   "metadata": {},
   "outputs": [],
   "source": [
    "model.load_state_dict(torch.load('model/best_model.pt'))\n",
    "model.eval()\n",
    "with torch.no_grad():\n",
    "    signal_outputs,signal_labels=[],[]\n",
    "    for batch_idx, (rhorho_s,rhorho_t,label_s,_) in enumerate(train_loader):\n",
    "        signal_outputs.append(model(rhorho_s).detach().cpu())\n",
    "        signal_labels.append(label_s.detach().cpu())\n",
    "signal_outputs=torch.softmax(torch.cat(signal_outputs),axis=1).numpy()\n",
    "signal_labels=np.concatenate(signal_labels)\n",
    "\n",
    "####### Filtering signal outputs that are classified to Class 0\n",
    "signal_outputs=signal_outputs[np.argmax(signal_labels,axis=1)==0]\n",
    "signal_labels=np.argmax(signal_outputs,axis=1)"
   ]
  },
  {
   "cell_type": "code",
   "execution_count": 47,
   "id": "924d9365",
   "metadata": {},
   "outputs": [],
   "source": [
    "pickle.dump(signal_outputs,open(args.IN+'/NN_outputs_signal_only.pk','wb'))"
   ]
  },
  {
   "cell_type": "markdown",
   "id": "e36fcd01",
   "metadata": {},
   "source": [
    "# Test Results"
   ]
  },
  {
   "cell_type": "code",
   "execution_count": 48,
   "id": "139cfb27",
   "metadata": {},
   "outputs": [],
   "source": [
    "bg_outputs = pickle.load(open(args.IN+'/NN_outputs_background_only.pk','rb'))\n",
    "signal_outputs= pickle.load(open(args.IN+'/NN_outputs_signal_only.pk','rb'))"
   ]
  },
  {
   "cell_type": "code",
   "execution_count": 49,
   "id": "6764c61d",
   "metadata": {},
   "outputs": [
    {
     "data": {
      "image/png": "[encoded data removed]",
      "text/plain": [
       "<Figure size 900x600 with 1 Axes>"
      ]
     },
     "metadata": {},
     "output_type": "display_data"
    }
   ],
   "source": [
    "columns=['Ztt','Signal']\n",
    "fig,ax=plt.subplots(dpi=150)\n",
    "plt.xlabel(\"Classes\")\n",
    "plt.ylabel(\"Events\")\n",
    "df = pd.concat([pd.DataFrame(a, columns=[columns[i]]) for i, a in enumerate([bg_outputs, np.argmax(signal_outputs,axis=1)], 0)], axis=1)\n",
    "\n",
    "# plot the data\n",
    "ax.set_xlim(0,args.NUM_CLASSES-1)\n",
    "ax = df.plot.hist(stacked=True, bins=args.NUM_CLASSES-1,ax=ax, color = ['skyblue','red']).get_figure()"
   ]
  },
  {
   "cell_type": "code",
   "execution_count": 50,
   "id": "51c73b83",
   "metadata": {},
   "outputs": [],
   "source": [
    "ax.savefig('TestResults_w_bkgd1.pdf')"
   ]
  },
  {
   "cell_type": "code",
   "execution_count": 51,
   "id": "80dc55dc",
   "metadata": {},
   "outputs": [],
   "source": [
    "signal_df = pd.DataFrame(np.argmax(signal_outputs, axis=1), columns=[columns[1]])\n",
    "bkgd_df = pd.DataFrame(bg_outputs, columns=[columns[0]])\n",
    "signal_df = signal_df.groupby('Signal').size().to_frame('SgCounts').reset_index().rename({'Signal':'Class'},axis=1)\n",
    "bkgd_df = bkgd_df.groupby('Ztt').size().to_frame('BgCounts').reset_index().rename({'Ztt':'Class'},axis=1)\n",
    "total = pd.concat([signal_df,bkgd_df['BgCounts']],axis = 1) "
   ]
  },
  {
   "cell_type": "code",
   "execution_count": 52,
   "id": "19b22ef6",
   "metadata": {},
   "outputs": [
    {
     "data": {
      "image/png": "[encoded data removed]",
      "text/plain": [
       "<Figure size 900x1500 with 2 Axes>"
      ]
     },
     "metadata": {},
     "output_type": "display_data"
    }
   ],
   "source": [
    "import seaborn as sns\n",
    "import matplotlib.patches as mpatches\n",
    "\n",
    "fig, axis = plt.subplots(2,1,figsize=(6,10),dpi=150)\n",
    "fig.suptitle(\"RhoRho Test Results\", fontsize=15)\n",
    "axis[0].set_title('Signal + Background Results', fontsize=11)\n",
    "axis[1].set_title('Background Results with Error Bar', fontsize=11)\n",
    "# set plot style: grey grid in the background:\n",
    "sns.set(style=\"darkgrid\")\n",
    "\n",
    "total[['BgCounts','SgCounts']].plot(kind=\"bar\", ax = axis[0],stacked=True,color = ['skyblue','r']).get_figure()\n",
    "\n",
    "# add legend\n",
    "top_bar = mpatches.Patch(color='r', label='Signal')\n",
    "bottom_bar = mpatches.Patch(color='skyblue', label='Ztt')\n",
    "axis[0].legend(handles=[top_bar, bottom_bar])\n",
    "\n",
    "for i in range(len(axis)): \n",
    "    axis[i].set_xlabel(\"Classes\",fontsize=10)\n",
    "    axis[i].set_ylabel(\"Events\",fontsize=10)\n",
    "\n",
    "\n",
    "Poisson_std = [math.sqrt(i) for i in total['BgCounts'].to_numpy()]\n",
    "total[['BgCounts']].plot(kind=\"bar\", ax = axis[1],stacked=True,color = ['skyblue','r'], yerr = Poisson_std, alpha = 1)\n",
    "# ax.bar(x_pos, CTEs, yerr=error, align='center', alpha=0.5, ecolor='black', capsize=10)\n",
    "axis[1].legend(handles=[bottom_bar])\n",
    "\n",
    "# show the graph\n",
    "plt.show()"
   ]
  },
  {
   "cell_type": "code",
   "execution_count": 53,
   "id": "516608d8",
   "metadata": {},
   "outputs": [],
   "source": [
    "fig.savefig('TestResults2__w_bkgd1.pdf')"
   ]
  },
  {
   "cell_type": "code",
   "execution_count": 54,
   "id": "0411ef62",
   "metadata": {},
   "outputs": [
    {
     "name": "stdout",
     "output_type": "stream",
     "text": [
      "    Class  SgCounts\n",
      "0       0    193480\n",
      "1       1       865\n",
      "2       2      4186\n",
      "3       3      2131\n",
      "4       4      5534\n",
      "5       5      2291\n",
      "6       6      6572\n",
      "7       7      3936\n",
      "8       8      6483\n",
      "9       9      5342\n",
      "10     10      5835\n",
      "11     11      2070\n",
      "12     12      8050\n",
      "13     13      4225\n",
      "14     14      4549\n",
      "15     15      5474\n",
      "16     16      4650\n",
      "17     17      3332\n",
      "18     18      3732\n",
      "19     19       985\n",
      "20     20    105887\n",
      "21     21    114877\n"
     ]
    }
   ],
   "source": [
    "print(signal_df)"
   ]
  },
  {
   "cell_type": "code",
   "execution_count": 55,
   "id": "d4e22bea",
   "metadata": {},
   "outputs": [
    {
     "name": "stdout",
     "output_type": "stream",
     "text": [
      "    Class  BgCounts\n",
      "0       0    105170\n",
      "1       1       739\n",
      "2       2      3911\n",
      "3       3      2044\n",
      "4       4      5501\n",
      "5       5      2279\n",
      "6       6      6461\n",
      "7       7      3968\n",
      "8       8      6440\n",
      "9       9      5235\n",
      "10     10      5932\n",
      "11     11      2077\n",
      "12     12      8062\n",
      "13     13      4260\n",
      "14     14      4624\n",
      "15     15      5576\n",
      "16     16      4648\n",
      "17     17      3294\n",
      "18     18      3697\n",
      "19     19       993\n",
      "20     20    104482\n",
      "21     21    110991\n"
     ]
    }
   ],
   "source": [
    "print(bkgd_df)"
   ]
  },
  {
   "cell_type": "code",
   "execution_count": null,
   "id": "431e7ad8",
   "metadata": {},
   "outputs": [],
   "source": []
  },
  {
   "cell_type": "code",
   "execution_count": null,
   "id": "fec1760a",
   "metadata": {},
   "outputs": [],
   "source": []
  }
 ],
 "metadata": {
  "kernelspec": {
   "display_name": "Python 3 (ipykernel)",
   "language": "python",
   "name": "python3"
  },
  "language_info": {
   "codemirror_mode": {
    "name": "ipython",
    "version": 3
   },
   "file_extension": ".py",
   "mimetype": "text/x-python",
   "name": "python",
   "nbconvert_exporter": "python",
   "pygments_lexer": "ipython3",
   "version": "3.8.8"
  }
 },
 "nbformat": 4,
 "nbformat_minor": 5
}
